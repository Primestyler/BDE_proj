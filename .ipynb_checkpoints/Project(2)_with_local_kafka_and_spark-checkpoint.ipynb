{
 "cells": [
  {
   "cell_type": "markdown",
   "id": "f623fad6-ee2a-4c0c-b982-11837debdf85",
   "metadata": {},
   "source": [
    "# Semester Projekt Big Data Engineering"
   ]
  },
  {
   "cell_type": "code",
   "execution_count": 15,
   "id": "bd316602-7266-4b46-b611-f6875e202997",
   "metadata": {},
   "outputs": [
    {
     "name": "stdout",
     "output_type": "stream",
     "text": [
      "Requirement already satisfied: confluent-kafka in /opt/conda/lib/python3.11/site-packages (2.4.0)\n",
      "Requirement already satisfied: pyspark in /usr/local/spark/python (3.5.0)\n",
      "Collecting py4j==0.10.9.7 (from pyspark)\n",
      "  Downloading py4j-0.10.9.7-py2.py3-none-any.whl.metadata (1.5 kB)\n",
      "Downloading py4j-0.10.9.7-py2.py3-none-any.whl (200 kB)\n",
      "\u001b[2K   \u001b[90m━━━━━━━━━━━━━━━━━━━━━━━━━━━━━━━━━━━━━━━━\u001b[0m \u001b[32m200.5/200.5 kB\u001b[0m \u001b[31m3.6 MB/s\u001b[0m eta \u001b[36m0:00:00\u001b[0ma \u001b[36m0:00:01\u001b[0m\n",
      "\u001b[?25hInstalling collected packages: py4j\n",
      "Successfully installed py4j-0.10.9.7\n"
     ]
    }
   ],
   "source": [
    "!pip install confluent-kafka\n",
    "!pip install pyspark"
   ]
  },
  {
   "cell_type": "markdown",
   "id": "a70c5355-51c8-413b-82fc-01b8ee3ac34c",
   "metadata": {},
   "source": [
    "# Here API "
   ]
  },
  {
   "cell_type": "code",
   "execution_count": 2,
   "id": "7db33f98-d93a-4ff3-9638-46d2f3778f15",
   "metadata": {},
   "outputs": [],
   "source": [
    "# Kafka producer setup\n",
    "from confluent_kafka import Producer\n",
    "\n",
    "kafkaProducer = Producer({'bootstrap.servers': 'kafka:9092'})"
   ]
  },
  {
   "cell_type": "markdown",
   "id": "3f2d5cf7-2da3-4224-a98d-227b8bd2eb79",
   "metadata": {},
   "source": [
    "Wir haben verschiedene Routen in den Städten Berlin, Delhi und London beschrieben. Jede Route haben wir durch zwei Koordinatenpaare gekennzeichnet: ein \"start\" Punkt und ein \"ziel\" Punkt. Diese Koordinatenpaare sind geografische Positionen, angegeben in Längen- und Breitengraden, die die Start- und Zielorte der Routen definieren. In Berlin haben wir die Routen aus mehreren Start- und Zielkoordinaten innerhalb der Stadt zusammengestellt. Ähnlich wie in Berlin haben wir in Delhi verschiedene Start- und Zielpunkte innerhalb der Stadt durch Koordinatenpaare dargestellt. Auch in London haben wir verschiedene Routen durch Start- und Zielkoordinaten in der Stadt beschrieben."
   ]
  },
  {
   "cell_type": "code",
   "execution_count": 3,
   "id": "14350ee8-9616-4b72-809a-12ea3f1610b6",
   "metadata": {
    "scrolled": true
   },
   "outputs": [],
   "source": [
    "# Routes data\n",
    "berlin_routen = [\n",
    "    {\"start\": \"52.5160,13.3779\", \"ziel\": \"52.5206,13.3862\"},\n",
    "    {\"start\": \"52.5308,13.3847\", \"ziel\": \"52.5264,13.3686\"},\n",
    "    {\"start\": \"52.5233,13.4127\", \"ziel\": \"52.5171,13.3889\"},\n",
    "    {\"start\": \"52.5411,13.4554\", \"ziel\": \"52.5200,13.4050\"},\n",
    "    {\"start\": \"52.4831,13.4516\", \"ziel\": \"52.5209,13.3867\"},\n",
    "    {\"start\": \"52.5109,13.4245\", \"ziel\": \"52.5345,13.3832\"},\n",
    "    {\"start\": \"52.5064,13.2895\", \"ziel\": \"52.5167,13.3774\"},\n",
    "    {\"start\": \"52.5377,13.4384\", \"ziel\": \"52.4985,13.4451\"},\n",
    "    {\"start\": \"52.4660,13.3483\", \"ziel\": \"52.5327,13.4217\"},\n",
    "    {\"start\": \"52.5489,13.3781\", \"ziel\": \"52.4960,13.3311\"},\n",
    "    {\"start\": \"52.5096,13.3763\", \"ziel\": \"52.5192,13.4061\"},\n",
    "    {\"start\": \"52.4973,13.3966\", \"ziel\": \"52.5074,13.4307\"},\n",
    "    {\"start\": \"52.5238,13.4023\", \"ziel\": \"52.5080,13.3772\"},\n",
    "    {\"start\": \"52.5179,13.4284\", \"ziel\": \"52.5054,13.3904\"},\n",
    "    {\"start\": \"52.5120,13.3889\", \"ziel\": \"52.5208,13.3856\"},\n",
    "    {\"start\": \"52.5200,13.4050\", \"ziel\": \"52.5248,13.3689\"},\n",
    "    {\"start\": \"52.5170,13.3889\", \"ziel\": \"52.5200,13.4050\"},\n",
    "    {\"start\": \"52.5240,13.3879\", \"ziel\": \"52.5300,13.4100\"},\n",
    "    {\"start\": \"52.5290,13.3700\", \"ziel\": \"52.5200,13.4050\"},\n",
    "    {\"start\": \"52.5150,13.3750\", \"ziel\": \"52.5300,13.4050\"},\n",
    "    {\"start\": \"52.5220,13.3880\", \"ziel\": \"52.5200,13.4050\"},\n",
    "    {\"start\": \"52.5270,13.3720\", \"ziel\": \"52.5150,13.4050\"},\n",
    "    {\"start\": \"52.5240,13.3600\", \"ziel\": \"52.5200,13.4050\"},\n",
    "    {\"start\": \"52.5230,13.3700\", \"ziel\": \"52.5200,13.4050\"},\n",
    "    {\"start\": \"52.5250,13.3780\", \"ziel\": \"52.5200,13.4050\"}\n",
    "]\n",
    "\n",
    "delhi_routen = [\n",
    "    {\"start\": \"28.7041,77.1025\", \"ziel\": \"28.6139,77.2090\"},\n",
    "    {\"start\": \"28.7041,77.1025\", \"ziel\": \"28.6353,77.2250\"},\n",
    "    {\"start\": \"28.6271,77.2166\", \"ziel\": \"28.6518,77.2219\"},\n",
    "    {\"start\": \"28.6325,77.2185\", \"ziel\": \"28.6817,77.2426\"},\n",
    "    {\"start\": \"28.5922,77.2507\", \"ziel\": \"28.5383,77.2595\"},\n",
    "    {\"start\": \"28.5801,77.0569\", \"ziel\": \"28.6334,77.2200\"},\n",
    "    {\"start\": \"28.6271,77.2150\", \"ziel\": \"28.5666,77.2044\"},\n",
    "    {\"start\": \"28.6506,77.2305\", \"ziel\": \"28.6143,77.2274\"},\n",
    "    {\"start\": \"28.6090,77.0375\", \"ziel\": \"28.6947,77.2945\"},\n",
    "    {\"start\": \"28.5694,77.2315\", \"ziel\": \"28.6613,77.2166\"},\n",
    "    {\"start\": \"28.6139,77.2090\", \"ziel\": \"28.6344,77.2205\"},\n",
    "    {\"start\": \"28.6333,77.2250\", \"ziel\": \"28.6139,77.2025\"},\n",
    "    {\"start\": \"28.5914,77.2507\", \"ziel\": \"28.7025,77.1907\"},\n",
    "    {\"start\": \"28.5552,77.2026\", \"ziel\": \"28.7041,77.1025\"},\n",
    "    {\"start\": \"28.6280,77.2145\", \"ziel\": \"28.5790,77.1762\"},\n",
    "    {\"start\": \"28.6280,77.2150\", \"ziel\": \"28.6340,77.2160\"},\n",
    "    {\"start\": \"28.6180,77.2080\", \"ziel\": \"28.6220,77.2140\"},\n",
    "    {\"start\": \"28.6110,77.2090\", \"ziel\": \"28.6300,77.2210\"},\n",
    "    {\"start\": \"28.6190,77.2110\", \"ziel\": \"28.6250,77.2170\"},\n",
    "    {\"start\": \"28.6270,77.2130\", \"ziel\": \"28.6310,77.2190\"},\n",
    "    {\"start\": \"28.6300,77.2160\", \"ziel\": \"28.6210,77.2150\"},\n",
    "    {\"start\": \"28.6220,77.2180\", \"ziel\": \"28.6290,77.2230\"},\n",
    "    {\"start\": \"28.6250,77.2100\", \"ziel\": \"28.6320,77.2240\"},\n",
    "    {\"start\": \"28.6140,77.2140\", \"ziel\": \"28.6200,77.2190\"},\n",
    "    {\"start\": \"28.6150,77.2150\", \"ziel\": \"28.6220,77.2160\"}\n",
    "]\n",
    "\n",
    "london_routen = [\n",
    "    {\"start\": \"51.5074,-0.1278\", \"ziel\": \"51.5007,-0.1246\"},\n",
    "    {\"start\": \"51.5074,-0.1278\", \"ziel\": \"51.5080,-0.1280\"},\n",
    "    {\"start\": \"51.5014,-0.1419\", \"ziel\": \"51.5033,-0.1195\"},\n",
    "    {\"start\": \"51.5113,-0.1195\", \"ziel\": \"51.4992,-0.1247\"},\n",
    "    {\"start\": \"51.4989,-0.1747\", \"ziel\": \"51.5005,-0.1213\"},\n",
    "    {\"start\": \"51.5080,-0.1246\", \"ziel\": \"51.5045,-0.0865\"},\n",
    "    {\"start\": \"51.5000,-0.1214\", \"ziel\": \"51.5101,-0.1349\"},\n",
    "    {\"start\": \"51.5085,-0.0805\", \"ziel\": \"51.4947,-0.1374\"},\n",
    "    {\"start\": \"51.4975,-0.1214\", \"ziel\": \"51.5074,-0.1278\"},\n",
    "    {\"start\": \"51.5125,-0.0961\", \"ziel\": \"51.5074,-0.1278\"},\n",
    "    {\"start\": \"51.5026,-0.1406\", \"ziel\": \"51.5097,-0.0805\"},\n",
    "    {\"start\": \"51.5286,-0.2417\", \"ziel\": \"51.5042,-0.0865\"},\n",
    "    {\"start\": \"51.5204,-0.1346\", \"ziel\": \"51.5094,-0.1183\"},\n",
    "    {\"start\": \"51.5096,-0.1348\", \"ziel\": \"51.5014,-0.1423\"},\n",
    "    {\"start\": \"51.5048,-0.1070\", \"ziel\": \"51.5081,-0.1246\"},\n",
    "    {\"start\": \"51.5070,-0.1350\", \"ziel\": \"51.5110,-0.1200\"},\n",
    "    {\"start\": \"51.5130,-0.1400\", \"ziel\": \"51.5060,-0.1210\"},\n",
    "    {\"start\": \"51.5080,-0.1320\", \"ziel\": \"51.5090,-0.1190\"},\n",
    "    {\"start\": \"51.5050,-0.1380\", \"ziel\": \"51.5070,-0.1240\"},\n",
    "    {\"start\": \"51.5090,-0.1400\", \"ziel\": \"51.5060,-0.1250\"},\n",
    "    {\"start\": \"51.5075,-0.1330\", \"ziel\": \"51.5050,-0.1190\"},\n",
    "    {\"start\": \"51.5110,-0.1360\", \"ziel\": \"51.5080,-0.1220\"},\n",
    "    {\"start\": \"51.5090,-0.1390\", \"ziel\": \"51.5070,-0.1180\"},\n",
    "    {\"start\": \"51.5100,-0.1320\", \"ziel\": \"51.5080,-0.1200\"},\n",
    "    {\"start\": \"51.5060,-0.1380\", \"ziel\": \"51.5070,-0.1210\"}\n",
    "]"
   ]
  },
  {
   "cell_type": "code",
   "execution_count": 4,
   "id": "eb0c8deb-2364-43a9-8557-684c7f36aaff",
   "metadata": {},
   "outputs": [],
   "source": [
    "import requests\n",
    "import json\n",
    "import time\n",
    "from json import dumps\n",
    "import math "
   ]
  },
  {
   "cell_type": "markdown",
   "id": "ca834adb-1b22-49d2-9b01-54f5794279a6",
   "metadata": {},
   "source": [
    "Wir haben eine Funktion entwickelt, um die Länge von Routen auf etwa 10 Kilometer anzupassen. Diese Funktion, **adjust_route**, nimmt eine Route mit Start- und Zielkoordinaten als Eingabe. Zunächst wandeln wir die Koordinaten von Zeichenketten in Fließkommazahlen um und berechnen dann die aktuelle Distanz zwischen den Start- und Zielpunkten mithilfe der Haversine-Formel in der Hilfsfunktion **distance_between_points**. Diese Formel berücksichtigt die Erdkrümmung und liefert die Entfernung in Kilometern.\n",
    "\n",
    "Wenn die aktuelle Länge der Route von der gewünschten Länge abweicht, skalieren wir den Vektor vom Start- zum Zielpunkt so, dass die neue Route die gewünschte Länge von 10 Kilometern hat. Dazu berechnen wir einen Skalierungsfaktor aus dem Verhältnis der gewünschten Länge zur aktuellen Länge. Die neuen Zielkoordinaten erhalten wir, indem wir die Differenz zwischen den ursprünglichen Start- und Zielkoordinaten mit diesem Faktor multiplizieren und die resultierenden Werte zu den Startkoordinaten addieren. Die angepassten Koordinaten setzen wir als neues Ziel der Route fest. Diese Methode ermöglicht es uns, Routen einheitlich auf die Länge von etwa 10 Kilometern zu bringen, was für die Analyse von Verkehrswegen, Routenplanung oder logistische Optimierungen hilfreich ist."
   ]
  },
  {
   "cell_type": "code",
   "execution_count": 5,
   "id": "befe4ca8-779d-4e63-8445-6f30f3f4980e",
   "metadata": {},
   "outputs": [],
   "source": [
    "# Function to adjust route to fit the desired length (approximately 10 km)\n",
    "def adjust_route(route):\n",
    "    start_coords = [float(coord) for coord in route['start'].split(',')]\n",
    "    ziel_coords = [float(coord) for coord in route['ziel'].split(',')]\n",
    "    \n",
    "    # Calculate the distance between start and ziel\n",
    "    current_length = distance_between_points(start_coords, ziel_coords)\n",
    "    desired_length = 10.0  # Desired length in km\n",
    "    \n",
    "    # Scale the vector from start to ziel to achieve desired_length\n",
    "    scale_factor = desired_length / current_length\n",
    "    new_ziel_coords = [\n",
    "        start_coords[0] + (ziel_coords[0] - start_coords[0]) * scale_factor,\n",
    "        start_coords[1] + (ziel_coords[1] - start_coords[1]) * scale_factor\n",
    "    ]\n",
    "    \n",
    "    route['ziel'] = f\"{new_ziel_coords[0]},{new_ziel_coords[1]}\"\n",
    "    return route\n",
    "\n",
    "# Helper function to calculate distance between two points in km (Haversine formula)\n",
    "def distance_between_points(coord1, coord2):\n",
    "    lat1, lon1 = coord1\n",
    "    lat2, lon2 = coord2\n",
    "    R = 6371.0  # Radius of the Earth in km\n",
    "    dlat = math.radians(lat2 - lat1)\n",
    "    dlon = math.radians(lon2 - lon1)\n",
    "    a = math.sin(dlat / 2) * math.sin(dlat / 2) + math.cos(math.radians(lat1)) * math.cos(math.radians(lat2)) * math.sin(dlon / 2) * math.sin(dlon / 2)\n",
    "    c = 2 * math.atan2(math.sqrt(a), math.sqrt(1 - a))\n",
    "    distance = R * c\n",
    "    return distance"
   ]
  },
  {
   "cell_type": "markdown",
   "id": "5d1a6822-3400-4476-bee5-10cd6667c8fa",
   "metadata": {},
   "source": [
    "Wir haben eine Methode entwickelt, um Routeninformationen von der HERE API abzurufen. Hierzu haben wir zunächst die API-URL und den API-Schlüssel definiert.\n",
    "\n",
    "Die Funktion **get_data_from_here_api** nimmt Start- und Zielkoordinaten als Eingaben und stellt eine Anfrage an die HERE API, um Routeninformationen zu erhalten. In den Anfragenparametern spezifizieren wir das Transportmittel als Auto, geben die Start- und Zielkoordinaten an und fordern die Zusammenfassung der Route an. Die API antwortet mit den entsprechenden Routeninformationen, die wir dann im JSON-Format zurückgeben. Diese Methode ermöglicht es uns, detaillierte Routeninformationen für unsere Analysen zu sammeln."
   ]
  },
  {
   "cell_type": "code",
   "execution_count": 6,
   "id": "d40e690f-bc3f-4ef9-95e4-2f06f08119c3",
   "metadata": {},
   "outputs": [],
   "source": [
    "# HERE API setup\n",
    "api_url = \"https://router.hereapi.com/v8/routes\"\n",
    "api_key = \"AtlHVpOjqsf6aI0Ik-Fd6kvsRb3AHEwIv7QNo_iEeZM\"\n",
    "\n",
    "# Function to get data from HERE API with a desired length constraint\n",
    "def get_data_from_here_api(start, ziel):\n",
    "    params = {\n",
    "        \"transportMode\": \"car\",\n",
    "        \"origin\": start,\n",
    "        \"destination\": ziel,\n",
    "        \"return\": \"summary\",\n",
    "        \"apikey\": api_key\n",
    "    }\n",
    "    response = requests.get(api_url, params=params)\n",
    "    data = response.json()\n",
    "    return data\n"
   ]
  },
  {
   "cell_type": "markdown",
   "id": "797a334b-458c-4eeb-8d84-e45d0311e0ed",
   "metadata": {},
   "source": [
    "Wir haben eine Funktion entwickelt, um Routen zu verarbeiten und die Daten an Kafka zu senden. Die Funktion **send_routes_to_kafka** iteriert durch eine Liste von Routen, passt jede Route auf eine Länge von etwa 10 Kilometern an und ruft dann Routeninformationen von der HERE API ab.\n",
    "\n",
    "Für jede Route extrahieren wir die Start- und Zielkoordinaten und verwenden diese, um Daten von der HERE API zu erhalten. Die erhaltenen Daten werden dann im JSON-Format an ein Kafka-Thema gesendet. Um zu vermeiden, dass wir die API-Rate-Limits überschreiten, fügen wir eine kurze Pause zwischen den Anfragen ein. Diese Funktion wird verwendet, um die Routeninformationen für Berlin, Delhi und London zu verarbeiten und an die entsprechenden Kafka-Themen zu senden."
   ]
  },
  {
   "cell_type": "code",
   "execution_count": 7,
   "id": "37b5c00e-bd16-40a1-9aa6-90b6fa680144",
   "metadata": {},
   "outputs": [],
   "source": [
    "# Function to process routes and send data to Kafka\n",
    "def send_routes_to_kafka(routes, topic_name):\n",
    "    for route in routes:\n",
    "        route = adjust_route(route)\n",
    "        start = route[\"start\"]\n",
    "        ziel = route[\"ziel\"]\n",
    "        data = get_data_from_here_api(start, ziel)\n",
    "        kafkaProducer.produce(topic_name, value=dumps(data).encode('utf-8'))        \n",
    "        print(f\"Sent data for route from {start} to {ziel}\")\n",
    "        time.sleep(1)  # To avoid hitting API rate limits"
   ]
  },
  {
   "cell_type": "code",
   "execution_count": 8,
   "id": "4f1c25bc-220d-4593-aa3e-19e9b6e0d0f0",
   "metadata": {
    "scrolled": true
   },
   "outputs": [
    {
     "name": "stdout",
     "output_type": "stream",
     "text": [
      "Sent data for route from 52.5160,13.3779 to 52.57655637712359,13.487164767418571\n",
      "Sent data for route from 52.5308,13.3847 to 52.49394800774192,13.249855210146483\n",
      "Sent data for route from 52.5233,13.4127 to 52.487905401745145,13.27683041315073\n",
      "Sent data for route from 52.5411,13.4554 to 52.490116260159304,13.33361893421937\n",
      "Sent data for route from 52.4831,13.4516 to 52.54527248510363,13.344854119491378\n",
      "Sent data for route from 52.5109,13.4245 to 52.572466165534976,13.316759210313796\n",
      "Sent data for route from 52.5064,13.2895 to 52.523403025886864,13.434603492762667\n",
      "Sent data for route from 52.5377,13.4384 to 52.44825033451515,13.4536885907844\n",
      "Sent data for route from 52.4660,13.3483 to 52.54071566763215,13.430520839643174\n",
      "Sent data for route from 52.5489,13.3781 to 52.46978770250502,13.307811191261546\n",
      "Sent data for route from 52.5096,13.3763 to 52.5516748649732,13.506907393354336\n",
      "Sent data for route from 52.4973,13.3966 to 52.53664753421928,13.529446625433481\n",
      "Sent data for route from 52.5238,13.4023 to 52.45914197226849,13.29958376607209\n",
      "Sent data for route from 52.5179,13.4284 to 52.475138306408496,13.298404451481787\n",
      "Sent data for route from 52.5120,13.3889 to 52.59967819341278,13.356020677470218\n",
      "Sent data for route from 52.5200,13.4050 to 52.53919965763978,13.260602574834062\n",
      "Sent data for route from 52.5170,13.3889 to 52.54333195849181,13.530214843906053\n",
      "Sent data for route from 52.5240,13.3879 to 52.56064872498309,13.522889470354368\n",
      "Sent data for route from 52.5290,13.3700 to 52.49398961210872,13.506151508466095\n",
      "Sent data for route from 52.5150,13.3750 to 52.57209725583443,13.489194511668847\n",
      "Sent data for route from 52.5220,13.3880 to 52.504927906692394,13.53311279311494\n",
      "Sent data for route from 52.5270,13.3720 to 52.48086524863463,13.498870566254768\n",
      "Sent data for route from 52.5240,13.3600 to 52.510999885032525,13.506251293384212\n",
      "Sent data for route from 52.5230,13.3700 to 52.51045511655577,13.516356973516068\n",
      "Sent data for route from 52.5250,13.3780 to 52.49881458527798,13.519401239499048\n",
      "Sent data for route from 28.7041,77.1025 to 28.641644407141378,77.17624191396278\n",
      "Sent data for route from 28.7041,77.1025 to 28.655615811862667,77.18882722451778\n",
      "Sent data for route from 28.6271,77.2166 to 28.71547862732089,77.23556383501219\n",
      "Sent data for route from 28.6325,77.2185 to 28.715122852119052,77.25897176292823\n",
      "Sent data for route from 28.5922,77.2507 to 28.503178375362435,77.26523414279798\n",
      "Sent data for route from 28.5801,77.0569 to 28.611472754228874,77.1529018051544\n",
      "Sent data for route from 28.6271,77.2150 to 28.538213422310026,77.19942648390887\n",
      "Sent data for route from 28.6506,77.2305 to 28.560919417952558,77.22284132770393\n",
      "Sent data for route from 28.6090,77.0375 to 28.640945030055317,77.13329781475164\n",
      "Sent data for route from 28.5694,77.2315 to 28.658434868525607,77.21706453165363\n",
      "Sent data for route from 28.6139,77.2090 to 28.69458110464651,77.25426013187487\n",
      "Sent data for route from 28.6333,77.2250 to 28.57027967558592,77.151909417561\n",
      "Sent data for route from 28.5914,77.2507 to 28.67266686138037,77.20681150600521\n",
      "Sent data for route from 28.5552,77.2026 to 28.63265347434201,77.1505308745357\n",
      "Sent data for route from 28.6280,77.2145 to 28.553848444210683,77.15654072271977\n",
      "Sent data for route from 28.6280,77.2150 to 28.716985061628638,77.22983084360463\n",
      "Sent data for route from 28.6180,77.2080 to 28.672391961809105,77.28958794271364\n",
      "Sent data for route from 28.6110,77.2090 to 28.689653161369197,77.25867568086477\n",
      "Sent data for route from 28.6190,77.2110 to 28.68658700886468,77.27858700886468\n",
      "Sent data for route from 28.6270,77.2130 to 28.68139491909422,77.2945923786413\n",
      "Sent data for route from 28.6300,77.2160 to 28.540492533735613,77.20605472597072\n",
      "Sent data for route from 28.6220,77.2180 to 28.69819449088068,77.27242463634329\n",
      "Sent data for route from 28.6250,77.2100 to 28.66951354442682,77.29902708885368\n",
      "Sent data for route from 28.6140,77.2140 to 28.68658397249245,77.27448664374366\n",
      "Sent data for route from 28.6150,77.2150 to 28.704233248773544,77.22774760696753\n",
      "Sent data for route from 51.5074,-0.1278 to 51.42119667684685,-0.08662826356861425\n",
      "Sent data for route from 51.5074,-0.1278 to 51.59545697655737,-0.15715232551884636\n",
      "Sent data for route from 51.5014,-0.1419 to 51.51354223128214,0.001250516167929372\n",
      "Sent data for route from 51.5113,-0.1195 to 51.42442237097774,-0.15683584057155925\n",
      "Sent data for route from 51.4989,-0.1747 to 51.50322353394948,-0.03040205443634525\n",
      "Sent data for route from 51.5080,-0.1246 to 51.49486926958163,0.01833737969705089\n",
      "Sent data for route from 51.5000,-0.1214 to 51.56913372954367,-0.21380647018212273\n",
      "Sent data for route from 51.5085,-0.0805 to 51.47585178428586,-0.2151147445025341\n",
      "Sent data for route from 51.4975,-0.1214 to 51.58093034168754,-0.17533476634348988\n",
      "Sent data for route from 51.5125,-0.0961 to 51.489992593654726,-0.23599897669500491\n",
      "Sent data for route from 51.5026,-0.1406 to 51.51936961758945,0.0013512700176831483\n",
      "Sent data for route from 51.5286,-0.2417 to 51.50657153043958,-0.10158448869768535\n",
      "Sent data for route from 51.5204,-0.1346 to 51.454287066085634,-0.03663265247237027\n",
      "Sent data for route from 51.5096,-0.1348 to 51.43144560603022,-0.20628267741136083\n",
      "Sent data for route from 51.5048,-0.1070 to 51.53073978887109,-0.24534554064594993\n",
      "Sent data for route from 51.5070,-0.1350 to 51.54241786367039,-0.0021830112362102583\n",
      "Sent data for route from 51.5130,-0.1400 to 51.46718914935378,-0.01565626253164934\n",
      "Sent data for route from 51.5080,-0.1320 to 51.519030909227276,0.01140181995490619\n",
      "Sent data for route from 51.5050,-0.1380 to 51.525117642323266,0.002823496263184483\n",
      "Sent data for route from 51.5090,-0.1400 to 51.48148754635663,-0.002437731783171887\n",
      "Sent data for route from 51.5075,-0.1330 to 51.48269943973502,0.005883137484014589\n",
      "Sent data for route from 51.5110,-0.1360 to 51.481723222002486,0.0006249639884192137\n",
      "Sent data for route from 51.5090,-0.1390 to 51.49539724925254,0.0038288828481683745\n",
      "Sent data for route from 51.5100,-0.1320 to 51.48673721678448,0.007576699293419781\n",
      "Sent data for route from 51.5060,-0.1380 to 51.51446150538272,0.005845591506613096\n"
     ]
    }
   ],
   "source": [
    "# Send Berlin routes data to Kafka\n",
    "send_routes_to_kafka(berlin_routen, 'berlin_routes')\n",
    "\n",
    "# Send Delhi routes data to Kafka\n",
    "send_routes_to_kafka(delhi_routen, 'delhi_routes')\n",
    "\n",
    "# Send London routes data to Kafka\n",
    "send_routes_to_kafka(london_routen, 'london_routes')"
   ]
  },
  {
   "cell_type": "markdown",
   "id": "9a56dfef-6d9d-4fd4-bd11-ac883797226a",
   "metadata": {},
   "source": [
    "Wir haben eine Methode entwickelt, um Kafka-Themen zu erstellen und aufzulisten. Wir haben die Konfiguration für die Kafka-Verbindung festgelegt und einen Admin-Client (kadmin) erstellt.\n",
    "\n",
    "Die Themen für Berlin, Delhi und London wurden definiert, aber derzeit sind die entsprechenden Zeilen auskommentiert. Um die Themen zu erstellen, müssten diese Zeilen aktiviert werden. Schließlich haben wir die vorhandenen Kafka-Themen aufgelistet. Dieser Ansatz erleichtert die Verwaltung der Kafka-Themen für die Routeninformationen."
   ]
  },
  {
   "cell_type": "code",
   "execution_count": 10,
   "id": "f2d5bc63-f7ae-4d22-b3f3-d2aac1f2e744",
   "metadata": {},
   "outputs": [
    {
     "data": {
      "text/plain": [
       "{'dehli_routes': TopicMetadata(dehli_routes, 1 partitions),\n",
       " 'hello-world': TopicMetadata(hello-world, 1 partitions),\n",
       " 'delhi_routes': TopicMetadata(delhi_routes, 1 partitions),\n",
       " '__consumer_offsets': TopicMetadata(__consumer_offsets, 50 partitions),\n",
       " 'london_routes': TopicMetadata(london_routes, 1 partitions),\n",
       " 'hello': TopicMetadata(hello, 1 partitions),\n",
       " 'berlin_routes': TopicMetadata(berlin_routes, 1 partitions)}"
      ]
     },
     "execution_count": 10,
     "metadata": {},
     "output_type": "execute_result"
    }
   ],
   "source": [
    "# create and list topics\n",
    "from confluent_kafka.admin import AdminClient\n",
    "from confluent_kafka.admin import NewTopic\n",
    "\n",
    "#topic_berlin = NewTopic('berlin_routes')\n",
    "#topic_dehli = NewTopic('dehli_routes')\n",
    "#topic_london = NewTopic('london_routes')\n",
    "\n",
    "conf = {'bootstrap.servers': 'kafka:9092',\n",
    "        'group.id': 'routes'}\n",
    "\n",
    "kadmin = AdminClient(conf)\n",
    "#kadmin.create_topics([topic_berlin, topic_dehli, topic_london])\n",
    "kadmin.list_topics().topics"
   ]
  },
  {
   "cell_type": "markdown",
   "id": "24c8e3d7-9205-4ed6-9149-5affa21a1295",
   "metadata": {},
   "source": [
    "Wir haben eine Pipeline erstellt, um Routeninformationen von Kafka mit Apache Spark zu verarbeiten und zu analysieren. Zuerst haben wir die Verbindungseinstellungen für Kafka festgelegt, einschließlich der Kafka-Broker und der zu abonnierenden Themen, die die Routeninformationen für Berlin, Delhi und London enthalten.\n",
    "\n",
    "Dann initialisierten wir eine Spark-Session und konfigurierten sie, um das Kafka-Spark-Streaming-Paket zu verwenden. Wir definierten ein Schema für die JSON-Daten, die von Kafka empfangen werden, um die Struktur der Routeninformationen zu beschreiben. Dieses Schema umfasst verschiedene Felder wie Längen- und Breitengrade, Zeitstempel und Zusammenfassungen der Routen.\n",
    "\n",
    "Wir haben die rohen Daten aus den Kafka-Themen gelesen und eine zusätzliche Spalte für den Namen des Themas hinzugefügt. Anschließend haben wir den Wert der Kafka-Nachrichten in Strings umgewandelt und das JSON-Format geparst. Um die Datenstruktur zu vereinfachen, haben wir die Routen und Abschnitte explodiert, wodurch eine flachere Tabelle entstand.\n",
    "\n",
    "Die resultierende Tabelle enthält detaillierte Informationen zu jeder Route und jedem Abschnitt, einschließlich Start- und Zielkoordinaten, Abfahrts- und Ankunftszeiten, Dauer, Länge und Transportmodus. Wir haben die aufbereiteten Daten angezeigt und eine Beispielanalyse durchgeführt, um die durchschnittliche Dauer der Routen pro Stadt zu berechnen.\n",
    "\n",
    "Zum Abschluss der Verarbeitung haben wir die Spark-Session gestoppt. Diese Pipeline ermöglicht eine effiziente Verarbeitung und Analyse großer Mengen an Routeninformationen aus verschiedenen Städten in Echtzeit."
   ]
  },
  {
   "cell_type": "code",
   "execution_count": 11,
   "id": "d6abed48-6efd-4482-9094-f7d1fef124db",
   "metadata": {},
   "outputs": [
    {
     "name": "stdout",
     "output_type": "stream",
     "text": [
      "+------------------------------------+------------------------------------+------------+-------------------------+-------------+-------------+-------------------------+-----------+-----------+--------+------+-------------+--------------+-------------+\n",
      "|route_id                            |section_id                          |section_type|departure_time           |departure_lat|departure_lng|arrival_time             |arrival_lat|arrival_lng|duration|length|base_duration|transport_mode|topic        |\n",
      "+------------------------------------+------------------------------------+------------+-------------------------+-------------+-------------+-------------------------+-----------+-----------+--------+------+-------------+--------------+-------------+\n",
      "|201eee56-9072-4704-81ed-5af04393a59a|ba085775-397a-42b2-a719-4725160edadc|vehicle     |2024-06-26T01:03:38+01:00|51.507427    |-0.1280207   |2024-06-26T01:06:25+01:00|51.500957  |-0.1245794 |167     |894   |133          |car           |london_routes|\n",
      "|5d60d5be-939b-4456-881b-2099798c639f|d7f9a66b-f9d5-4c42-8b38-93efae70b8c0|vehicle     |2024-06-26T01:03:39+01:00|51.507427    |-0.1280207   |2024-06-26T01:03:58+01:00|51.50764   |-0.12751   |19      |45    |12           |car           |london_routes|\n",
      "|f9276b73-1cdb-4c95-84a0-f58e7b780941|8fc96216-7a9b-4768-ae1f-e150f9ae7ed4|vehicle     |2024-06-26T01:03:41+01:00|51.50217     |-0.14157     |2024-06-26T01:11:09+01:00|51.503     |-0.11761   |448     |2310  |366          |car           |london_routes|\n",
      "|99d9e05f-1f0b-43a0-857b-c056fdbe05fa|cfe34abb-8a54-461a-89a7-6bde54ccb1ab|vehicle     |2024-06-26T01:03:49+01:00|51.51122     |-0.1194323   |2024-06-26T01:09:04+01:00|51.49902   |-0.1259766 |315     |1648  |227          |car           |london_routes|\n",
      "|2c019dbc-5e16-47ad-8d72-0c9c4d4ec8be|c042ab26-d52c-4be6-a9b0-db8d40d47834|vehicle     |2024-06-26T01:03:50+01:00|51.49893     |-0.1742339   |2024-06-26T01:15:44+01:00|51.500835  |-0.1212748 |714     |4468  |659          |car           |london_routes|\n",
      "|01b7fb18-688f-412a-9ab8-e25f9bfe9daa|8fd3dcb7-4823-4045-a7fe-0b46220a80cf|vehicle     |2024-06-26T01:03:52+01:00|51.508278    |-0.1241324   |2024-06-26T01:16:29+01:00|51.50479   |-0.08677   |757     |4637  |666          |car           |london_routes|\n",
      "|7291e9b4-65a9-471b-a381-02a0a74cc5b3|f3d03ef9-5a5c-492a-a304-d4d2b70e2ca2|vehicle     |2024-06-26T01:03:53+01:00|51.500835    |-0.1213368   |2024-06-26T01:15:24+01:00|51.51011   |-0.1349014 |691     |2826  |522          |car           |london_routes|\n",
      "|6a07bb47-ac3a-431c-9ac7-36cadfaa29ff|5a2b99c0-467a-4a62-8653-e5227ab93580|vehicle     |2024-06-26T01:03:54+01:00|51.50865     |-0.08045     |2024-06-26T01:16:43+01:00|51.494617  |-0.1371308 |769     |5200  |703          |car           |london_routes|\n",
      "|8afaf591-ec80-4188-8981-4789795c8556|3a366120-9697-470b-acc6-88a32e158ee2|vehicle     |2024-06-26T01:03:55+01:00|51.49745     |-0.12058     |2024-06-26T01:10:36+01:00|51.507427  |-0.1280207 |401     |2088  |341          |car           |london_routes|\n",
      "|78813ea8-dd9c-4298-970f-edd8a6587dba|19de1590-8ab7-4dd7-bbd2-84ba9aa49527|vehicle     |2024-06-26T01:03:57+01:00|51.512447    |-0.0957185   |2024-06-26T01:11:17+01:00|51.507427  |-0.1280207 |440     |2609  |404          |car           |london_routes|\n",
      "|4e165b3c-106e-424e-82e6-4fdb0f643ba2|f1ed7a92-cd82-412a-bbac-b8be14b58e76|vehicle     |2024-06-26T01:03:58+01:00|51.50234     |-0.1395401   |2024-06-26T01:16:24+01:00|51.509674  |-0.0805262 |746     |4638  |717          |car           |london_routes|\n",
      "|41d02344-7291-4dd9-acb0-e1e9e30a8524|afffd2e6-514b-4789-82c3-ee74f7d3fdeb|vehicle     |2024-06-26T01:03:59+01:00|51.52856     |-0.24175     |2024-06-26T01:38:26+01:00|51.504105  |-0.0866017 |2067    |15387 |1971         |car           |london_routes|\n",
      "|edf444f9-cc53-46b7-9a8f-c84973e7e5c5|9a0f965c-448f-4519-9b03-f075235024cb|vehicle     |2024-06-26T01:04:01+01:00|51.520523    |-0.1342903   |2024-06-26T01:15:14+01:00|51.509567  |-0.1178241 |673     |3785  |580          |car           |london_routes|\n",
      "|c06be995-abd6-42fc-bb78-d79971012a14|0966ca46-17ee-46d0-908a-48b7cb310e4f|vehicle     |2024-06-26T01:04:02+01:00|51.50962     |-0.13463     |2024-06-26T01:09:30+01:00|51.50217   |-0.14157   |328     |1925  |291          |car           |london_routes|\n",
      "|ddf38516-ddc5-4c8f-bc24-92af005bbd1c|90bd2e8a-a02f-4e96-8797-adafed08d0d5|vehicle     |2024-06-26T01:04:03+01:00|51.50493     |-0.1069201   |2024-06-26T01:13:18+01:00|51.50833   |-0.1242126 |555     |2962  |446          |car           |london_routes|\n",
      "|1416de81-001c-4b90-ad5d-39882e8499f1|11718e8e-9827-4711-b899-45078edc1d36|vehicle     |2024-06-26T01:04:04+01:00|51.506798    |-0.1348085   |2024-06-26T01:10:21+01:00|51.51101   |-0.12006   |377     |1678  |297          |car           |london_routes|\n",
      "|ae7b0315-1057-4aa5-bf5a-61703ff0c8ee|19bcd61b-3124-4a43-ac8b-009217cad11d|vehicle     |2024-06-26T01:04:06+01:00|51.512867    |-0.1404229   |2024-06-26T01:12:08+01:00|51.50664   |-0.12312   |482     |1640  |294          |car           |london_routes|\n",
      "|7717a207-2308-4aa2-9f76-b6a76d164624|fe3870fd-9d05-4516-9a47-5a3c1f6bab77|vehicle     |2024-06-26T01:04:07+01:00|51.508263    |-0.1322282   |2024-06-26T01:13:35+01:00|51.50945   |-0.1177182 |568     |3204  |481          |car           |london_routes|\n",
      "|6526a758-cf8c-4179-bdd1-79d92adaee80|6173273e-ef40-4b01-859e-94f1db975686|vehicle     |2024-06-26T01:04:08+01:00|51.505       |-0.1380029   |2024-06-26T01:10:31+01:00|51.50704   |-0.12403   |383     |1972  |346          |car           |london_routes|\n",
      "|5c0acd2f-d914-49d9-8954-6813a68e1621|85d68664-914a-4d3e-a9ed-2e8a13d6e796|vehicle     |2024-06-26T01:04:09+01:00|51.50816     |-0.13966     |2024-06-26T01:10:21+01:00|51.50609   |-0.125063  |372     |1507  |268          |car           |london_routes|\n",
      "+------------------------------------+------------------------------------+------------+-------------------------+-------------+-------------+-------------------------+-----------+-----------+--------+------+-------------+--------------+-------------+\n",
      "only showing top 20 rows\n",
      "\n"
     ]
    },
    {
     "data": {
      "text/html": [
       "<div>\n",
       "<style scoped>\n",
       "    .dataframe tbody tr th:only-of-type {\n",
       "        vertical-align: middle;\n",
       "    }\n",
       "\n",
       "    .dataframe tbody tr th {\n",
       "        vertical-align: top;\n",
       "    }\n",
       "\n",
       "    .dataframe thead th {\n",
       "        text-align: right;\n",
       "    }\n",
       "</style>\n",
       "<table border=\"1\" class=\"dataframe\">\n",
       "  <thead>\n",
       "    <tr style=\"text-align: right;\">\n",
       "      <th></th>\n",
       "      <th>topic</th>\n",
       "      <th>avg_duration</th>\n",
       "    </tr>\n",
       "  </thead>\n",
       "  <tbody>\n",
       "    <tr>\n",
       "      <th>0</th>\n",
       "      <td>london_routes</td>\n",
       "      <td>1148.04</td>\n",
       "    </tr>\n",
       "    <tr>\n",
       "      <th>1</th>\n",
       "      <td>delhi_routes</td>\n",
       "      <td>1253.36</td>\n",
       "    </tr>\n",
       "    <tr>\n",
       "      <th>2</th>\n",
       "      <td>berlin_routes</td>\n",
       "      <td>833.20</td>\n",
       "    </tr>\n",
       "  </tbody>\n",
       "</table>\n",
       "</div>"
      ],
      "text/plain": [
       "           topic  avg_duration\n",
       "0  london_routes       1148.04\n",
       "1   delhi_routes       1253.36\n",
       "2  berlin_routes        833.20"
      ]
     },
     "execution_count": 11,
     "metadata": {},
     "output_type": "execute_result"
    }
   ],
   "source": [
    "from pyspark.sql import SparkSession\n",
    "from pyspark.sql.functions import *\n",
    "from pyspark.sql.types import *\n",
    "\n",
    "# Kafka connection settings\n",
    "kafka_bootstrap_servers = \"kafka:9092\"\n",
    "\n",
    "kafka_topics = [\"berlin_routes\", \"delhi_routes\", \"london_routes\"]\n",
    "\n",
    "# Initialize Spark session\n",
    "spark = SparkSession.builder \\\n",
    "    .appName(\"KafkaSparkStreaming\") \\\n",
    "    .config(\"spark.jars.packages\", \"org.apache.spark:spark-sql-kafka-0-10_2.12:3.3.0\") \\\n",
    "    .getOrCreate()\n",
    "\n",
    "# Define schema for the JSON data\n",
    "location_schema = StructType([\n",
    "    StructField(\"lat\", FloatType(), True),\n",
    "    StructField(\"lng\", FloatType(), True)\n",
    "])\n",
    "\n",
    "place_schema = StructType([\n",
    "    StructField(\"type\", StringType(), True),\n",
    "    StructField(\"location\", location_schema, True),\n",
    "    StructField(\"originalLocation\", location_schema, True)\n",
    "])\n",
    "\n",
    "time_place_schema = StructType([\n",
    "    StructField(\"time\", StringType(), True),\n",
    "    StructField(\"place\", place_schema, True)\n",
    "])\n",
    "\n",
    "summary_schema = StructType([\n",
    "    StructField(\"duration\", IntegerType(), True),\n",
    "    StructField(\"length\", IntegerType(), True),\n",
    "    StructField(\"baseDuration\", IntegerType(), True)\n",
    "])\n",
    "\n",
    "transport_schema = StructType([\n",
    "    StructField(\"mode\", StringType(), True)\n",
    "])\n",
    "\n",
    "section_schema = StructType([\n",
    "    StructField(\"id\", StringType(), True),\n",
    "    StructField(\"type\", StringType(), True),\n",
    "    StructField(\"departure\", time_place_schema, True),\n",
    "    StructField(\"arrival\", time_place_schema, True),\n",
    "    StructField(\"summary\", summary_schema, True),\n",
    "    StructField(\"transport\", transport_schema, True)\n",
    "])\n",
    "\n",
    "route_schema = StructType([\n",
    "    StructField(\"id\", StringType(), True),\n",
    "    StructField(\"sections\", ArrayType(section_schema), True)\n",
    "])\n",
    "\n",
    "data_schema = StructType([\n",
    "    StructField(\"routes\", ArrayType(route_schema), True)\n",
    "])\n",
    "\n",
    "# Read raw data from Kafka topics\n",
    "df_raw = spark.read.format(\"kafka\") \\\n",
    "    .option(\"kafka.bootstrap.servers\", kafka_bootstrap_servers) \\\n",
    "    .option(\"subscribe\", \",\".join(kafka_topics)) \\\n",
    "    .load()\n",
    "\n",
    "# Add a column for the topic name\n",
    "df_raw = df_raw.withColumn(\"topic\", col(\"topic\"))\n",
    "\n",
    "\n",
    "# Convert value column to string and parse JSON\n",
    "df_parsed = df_raw.select(from_json(col(\"value\").cast(\"string\"), data_schema).alias(\"data\"), col(\"topic\"))\n",
    "\n",
    "# Explode routes and sections to flatten the structure\n",
    "df_exploded = df_parsed.selectExpr(\"explode(data.routes) as route\", \"topic\") \\\n",
    "    .selectExpr(\"route.id as route_id\", \"explode(route.sections) as section\", \"topic\") \\\n",
    "    .select(\n",
    "        col(\"route_id\"),\n",
    "        col(\"section.id\").alias(\"section_id\"),\n",
    "        col(\"section.type\").alias(\"section_type\"),\n",
    "        col(\"section.departure.time\").alias(\"departure_time\"),\n",
    "        col(\"section.departure.place.location.lat\").alias(\"departure_lat\"),\n",
    "        col(\"section.departure.place.location.lng\").alias(\"departure_lng\"),\n",
    "        col(\"section.arrival.time\").alias(\"arrival_time\"),\n",
    "        col(\"section.arrival.place.location.lat\").alias(\"arrival_lat\"),\n",
    "        col(\"section.arrival.place.location.lng\").alias(\"arrival_lng\"),\n",
    "        col(\"section.summary.duration\").alias(\"duration\"),\n",
    "        col(\"section.summary.length\").alias(\"length\"),\n",
    "        col(\"section.summary.baseDuration\").alias(\"base_duration\"),\n",
    "        col(\"section.transport.mode\").alias(\"transport_mode\"),\n",
    "        col(\"topic\")\n",
    "    )\n",
    "\n",
    "\n",
    "# Show the parsed and flattened data\n",
    "df_exploded.show(truncate=False)\n",
    "\n",
    "# Example analysis: average duration per city\n",
    "df_avg_duration = df_exploded.groupBy(\"topic\").agg(avg(\"duration\").alias(\"avg_duration\"))\n",
    "df_avg_duration.toPandas()\n",
    "\n",
    "\n",
    "# Save the exploded dataframe to a CSV file\n",
    "#df_exploded.write.csv(\"traffic_3.csv\", header=True)\n",
    "\n",
    "# Stop Spark session\n"
   ]
  },
  {
   "cell_type": "markdown",
   "id": "5e47e683-f9ed-4d1d-bd10-1696d6a84919",
   "metadata": {},
   "source": [
    "Mit der toPandas Funktion haben wir unser DataFrame in eine Pandas Datei umgewandelt, um damit einfacher Analysen durchführen zu können."
   ]
  },
  {
   "cell_type": "code",
   "execution_count": 12,
   "id": "99c8610d-f791-4d1d-b0fe-5be2d45941fb",
   "metadata": {},
   "outputs": [
    {
     "data": {
      "text/html": [
       "<div>\n",
       "<style scoped>\n",
       "    .dataframe tbody tr th:only-of-type {\n",
       "        vertical-align: middle;\n",
       "    }\n",
       "\n",
       "    .dataframe tbody tr th {\n",
       "        vertical-align: top;\n",
       "    }\n",
       "\n",
       "    .dataframe thead th {\n",
       "        text-align: right;\n",
       "    }\n",
       "</style>\n",
       "<table border=\"1\" class=\"dataframe\">\n",
       "  <thead>\n",
       "    <tr style=\"text-align: right;\">\n",
       "      <th></th>\n",
       "      <th>route_id</th>\n",
       "      <th>section_id</th>\n",
       "      <th>section_type</th>\n",
       "      <th>departure_time</th>\n",
       "      <th>departure_lat</th>\n",
       "      <th>departure_lng</th>\n",
       "      <th>arrival_time</th>\n",
       "      <th>arrival_lat</th>\n",
       "      <th>arrival_lng</th>\n",
       "      <th>duration</th>\n",
       "      <th>length</th>\n",
       "      <th>base_duration</th>\n",
       "      <th>transport_mode</th>\n",
       "      <th>topic</th>\n",
       "    </tr>\n",
       "  </thead>\n",
       "  <tbody>\n",
       "    <tr>\n",
       "      <th>0</th>\n",
       "      <td>201eee56-9072-4704-81ed-5af04393a59a</td>\n",
       "      <td>ba085775-397a-42b2-a719-4725160edadc</td>\n",
       "      <td>vehicle</td>\n",
       "      <td>2024-06-26T01:03:38+01:00</td>\n",
       "      <td>51.507427</td>\n",
       "      <td>-0.128021</td>\n",
       "      <td>2024-06-26T01:06:25+01:00</td>\n",
       "      <td>51.500957</td>\n",
       "      <td>-0.124579</td>\n",
       "      <td>167</td>\n",
       "      <td>894</td>\n",
       "      <td>133</td>\n",
       "      <td>car</td>\n",
       "      <td>london_routes</td>\n",
       "    </tr>\n",
       "    <tr>\n",
       "      <th>1</th>\n",
       "      <td>5d60d5be-939b-4456-881b-2099798c639f</td>\n",
       "      <td>d7f9a66b-f9d5-4c42-8b38-93efae70b8c0</td>\n",
       "      <td>vehicle</td>\n",
       "      <td>2024-06-26T01:03:39+01:00</td>\n",
       "      <td>51.507427</td>\n",
       "      <td>-0.128021</td>\n",
       "      <td>2024-06-26T01:03:58+01:00</td>\n",
       "      <td>51.507641</td>\n",
       "      <td>-0.127510</td>\n",
       "      <td>19</td>\n",
       "      <td>45</td>\n",
       "      <td>12</td>\n",
       "      <td>car</td>\n",
       "      <td>london_routes</td>\n",
       "    </tr>\n",
       "    <tr>\n",
       "      <th>2</th>\n",
       "      <td>f9276b73-1cdb-4c95-84a0-f58e7b780941</td>\n",
       "      <td>8fc96216-7a9b-4768-ae1f-e150f9ae7ed4</td>\n",
       "      <td>vehicle</td>\n",
       "      <td>2024-06-26T01:03:41+01:00</td>\n",
       "      <td>51.502171</td>\n",
       "      <td>-0.141570</td>\n",
       "      <td>2024-06-26T01:11:09+01:00</td>\n",
       "      <td>51.502998</td>\n",
       "      <td>-0.117610</td>\n",
       "      <td>448</td>\n",
       "      <td>2310</td>\n",
       "      <td>366</td>\n",
       "      <td>car</td>\n",
       "      <td>london_routes</td>\n",
       "    </tr>\n",
       "    <tr>\n",
       "      <th>3</th>\n",
       "      <td>99d9e05f-1f0b-43a0-857b-c056fdbe05fa</td>\n",
       "      <td>cfe34abb-8a54-461a-89a7-6bde54ccb1ab</td>\n",
       "      <td>vehicle</td>\n",
       "      <td>2024-06-26T01:03:49+01:00</td>\n",
       "      <td>51.511219</td>\n",
       "      <td>-0.119432</td>\n",
       "      <td>2024-06-26T01:09:04+01:00</td>\n",
       "      <td>51.499020</td>\n",
       "      <td>-0.125977</td>\n",
       "      <td>315</td>\n",
       "      <td>1648</td>\n",
       "      <td>227</td>\n",
       "      <td>car</td>\n",
       "      <td>london_routes</td>\n",
       "    </tr>\n",
       "    <tr>\n",
       "      <th>4</th>\n",
       "      <td>2c019dbc-5e16-47ad-8d72-0c9c4d4ec8be</td>\n",
       "      <td>c042ab26-d52c-4be6-a9b0-db8d40d47834</td>\n",
       "      <td>vehicle</td>\n",
       "      <td>2024-06-26T01:03:50+01:00</td>\n",
       "      <td>51.498932</td>\n",
       "      <td>-0.174234</td>\n",
       "      <td>2024-06-26T01:15:44+01:00</td>\n",
       "      <td>51.500835</td>\n",
       "      <td>-0.121275</td>\n",
       "      <td>714</td>\n",
       "      <td>4468</td>\n",
       "      <td>659</td>\n",
       "      <td>car</td>\n",
       "      <td>london_routes</td>\n",
       "    </tr>\n",
       "    <tr>\n",
       "      <th>...</th>\n",
       "      <td>...</td>\n",
       "      <td>...</td>\n",
       "      <td>...</td>\n",
       "      <td>...</td>\n",
       "      <td>...</td>\n",
       "      <td>...</td>\n",
       "      <td>...</td>\n",
       "      <td>...</td>\n",
       "      <td>...</td>\n",
       "      <td>...</td>\n",
       "      <td>...</td>\n",
       "      <td>...</td>\n",
       "      <td>...</td>\n",
       "      <td>...</td>\n",
       "    </tr>\n",
       "    <tr>\n",
       "      <th>170</th>\n",
       "      <td>5f4f2f5c-ae9f-4821-84e7-895529e00460</td>\n",
       "      <td>15c22aee-c8cb-4a6e-be18-71596f5fe437</td>\n",
       "      <td>vehicle</td>\n",
       "      <td>2024-06-26T02:28:36+02:00</td>\n",
       "      <td>52.522003</td>\n",
       "      <td>13.388041</td>\n",
       "      <td>2024-06-26T02:46:52+02:00</td>\n",
       "      <td>52.509830</td>\n",
       "      <td>13.532440</td>\n",
       "      <td>1096</td>\n",
       "      <td>11115</td>\n",
       "      <td>1048</td>\n",
       "      <td>car</td>\n",
       "      <td>berlin_routes</td>\n",
       "    </tr>\n",
       "    <tr>\n",
       "      <th>171</th>\n",
       "      <td>0d0cb1c6-f0c5-475b-9270-3cbbc5a622c2</td>\n",
       "      <td>ae1c635c-6f51-4917-bb5c-c1b0ec2bcc44</td>\n",
       "      <td>vehicle</td>\n",
       "      <td>2024-06-26T02:28:37+02:00</td>\n",
       "      <td>52.526981</td>\n",
       "      <td>13.371725</td>\n",
       "      <td>2024-06-26T02:51:35+02:00</td>\n",
       "      <td>52.480438</td>\n",
       "      <td>13.501100</td>\n",
       "      <td>1378</td>\n",
       "      <td>12128</td>\n",
       "      <td>1273</td>\n",
       "      <td>car</td>\n",
       "      <td>berlin_routes</td>\n",
       "    </tr>\n",
       "    <tr>\n",
       "      <th>172</th>\n",
       "      <td>e76e0e6a-8030-4c2d-84dc-92274043afd4</td>\n",
       "      <td>23163788-f4be-4761-b941-5ff2bb575338</td>\n",
       "      <td>vehicle</td>\n",
       "      <td>2024-06-26T02:28:39+02:00</td>\n",
       "      <td>52.524147</td>\n",
       "      <td>13.360482</td>\n",
       "      <td>2024-06-26T02:50:48+02:00</td>\n",
       "      <td>52.510658</td>\n",
       "      <td>13.506202</td>\n",
       "      <td>1329</td>\n",
       "      <td>12742</td>\n",
       "      <td>1290</td>\n",
       "      <td>car</td>\n",
       "      <td>berlin_routes</td>\n",
       "    </tr>\n",
       "    <tr>\n",
       "      <th>173</th>\n",
       "      <td>1c5f4dca-acf1-43ca-8674-7969ad92a27f</td>\n",
       "      <td>f1eb8a7a-f1f1-46cb-ad1d-c1dcc71f4ada</td>\n",
       "      <td>vehicle</td>\n",
       "      <td>2024-06-26T02:28:40+02:00</td>\n",
       "      <td>52.523022</td>\n",
       "      <td>13.370020</td>\n",
       "      <td>2024-06-26T02:48:34+02:00</td>\n",
       "      <td>52.510452</td>\n",
       "      <td>13.516380</td>\n",
       "      <td>1194</td>\n",
       "      <td>12715</td>\n",
       "      <td>1240</td>\n",
       "      <td>car</td>\n",
       "      <td>berlin_routes</td>\n",
       "    </tr>\n",
       "    <tr>\n",
       "      <th>174</th>\n",
       "      <td>3832824c-b5dc-479e-b1b1-8cd27a173a06</td>\n",
       "      <td>f5f5969f-1489-4474-b5f6-57a9325766b6</td>\n",
       "      <td>vehicle</td>\n",
       "      <td>2024-06-26T02:28:41+02:00</td>\n",
       "      <td>52.524933</td>\n",
       "      <td>13.377831</td>\n",
       "      <td>2024-06-26T02:50:29+02:00</td>\n",
       "      <td>52.498924</td>\n",
       "      <td>13.519899</td>\n",
       "      <td>1308</td>\n",
       "      <td>12196</td>\n",
       "      <td>1258</td>\n",
       "      <td>car</td>\n",
       "      <td>berlin_routes</td>\n",
       "    </tr>\n",
       "  </tbody>\n",
       "</table>\n",
       "<p>175 rows × 14 columns</p>\n",
       "</div>"
      ],
      "text/plain": [
       "                                 route_id  \\\n",
       "0    201eee56-9072-4704-81ed-5af04393a59a   \n",
       "1    5d60d5be-939b-4456-881b-2099798c639f   \n",
       "2    f9276b73-1cdb-4c95-84a0-f58e7b780941   \n",
       "3    99d9e05f-1f0b-43a0-857b-c056fdbe05fa   \n",
       "4    2c019dbc-5e16-47ad-8d72-0c9c4d4ec8be   \n",
       "..                                    ...   \n",
       "170  5f4f2f5c-ae9f-4821-84e7-895529e00460   \n",
       "171  0d0cb1c6-f0c5-475b-9270-3cbbc5a622c2   \n",
       "172  e76e0e6a-8030-4c2d-84dc-92274043afd4   \n",
       "173  1c5f4dca-acf1-43ca-8674-7969ad92a27f   \n",
       "174  3832824c-b5dc-479e-b1b1-8cd27a173a06   \n",
       "\n",
       "                               section_id section_type  \\\n",
       "0    ba085775-397a-42b2-a719-4725160edadc      vehicle   \n",
       "1    d7f9a66b-f9d5-4c42-8b38-93efae70b8c0      vehicle   \n",
       "2    8fc96216-7a9b-4768-ae1f-e150f9ae7ed4      vehicle   \n",
       "3    cfe34abb-8a54-461a-89a7-6bde54ccb1ab      vehicle   \n",
       "4    c042ab26-d52c-4be6-a9b0-db8d40d47834      vehicle   \n",
       "..                                    ...          ...   \n",
       "170  15c22aee-c8cb-4a6e-be18-71596f5fe437      vehicle   \n",
       "171  ae1c635c-6f51-4917-bb5c-c1b0ec2bcc44      vehicle   \n",
       "172  23163788-f4be-4761-b941-5ff2bb575338      vehicle   \n",
       "173  f1eb8a7a-f1f1-46cb-ad1d-c1dcc71f4ada      vehicle   \n",
       "174  f5f5969f-1489-4474-b5f6-57a9325766b6      vehicle   \n",
       "\n",
       "                departure_time  departure_lat  departure_lng  \\\n",
       "0    2024-06-26T01:03:38+01:00      51.507427      -0.128021   \n",
       "1    2024-06-26T01:03:39+01:00      51.507427      -0.128021   \n",
       "2    2024-06-26T01:03:41+01:00      51.502171      -0.141570   \n",
       "3    2024-06-26T01:03:49+01:00      51.511219      -0.119432   \n",
       "4    2024-06-26T01:03:50+01:00      51.498932      -0.174234   \n",
       "..                         ...            ...            ...   \n",
       "170  2024-06-26T02:28:36+02:00      52.522003      13.388041   \n",
       "171  2024-06-26T02:28:37+02:00      52.526981      13.371725   \n",
       "172  2024-06-26T02:28:39+02:00      52.524147      13.360482   \n",
       "173  2024-06-26T02:28:40+02:00      52.523022      13.370020   \n",
       "174  2024-06-26T02:28:41+02:00      52.524933      13.377831   \n",
       "\n",
       "                  arrival_time  arrival_lat  arrival_lng  duration  length  \\\n",
       "0    2024-06-26T01:06:25+01:00    51.500957    -0.124579       167     894   \n",
       "1    2024-06-26T01:03:58+01:00    51.507641    -0.127510        19      45   \n",
       "2    2024-06-26T01:11:09+01:00    51.502998    -0.117610       448    2310   \n",
       "3    2024-06-26T01:09:04+01:00    51.499020    -0.125977       315    1648   \n",
       "4    2024-06-26T01:15:44+01:00    51.500835    -0.121275       714    4468   \n",
       "..                         ...          ...          ...       ...     ...   \n",
       "170  2024-06-26T02:46:52+02:00    52.509830    13.532440      1096   11115   \n",
       "171  2024-06-26T02:51:35+02:00    52.480438    13.501100      1378   12128   \n",
       "172  2024-06-26T02:50:48+02:00    52.510658    13.506202      1329   12742   \n",
       "173  2024-06-26T02:48:34+02:00    52.510452    13.516380      1194   12715   \n",
       "174  2024-06-26T02:50:29+02:00    52.498924    13.519899      1308   12196   \n",
       "\n",
       "     base_duration transport_mode          topic  \n",
       "0              133            car  london_routes  \n",
       "1               12            car  london_routes  \n",
       "2              366            car  london_routes  \n",
       "3              227            car  london_routes  \n",
       "4              659            car  london_routes  \n",
       "..             ...            ...            ...  \n",
       "170           1048            car  berlin_routes  \n",
       "171           1273            car  berlin_routes  \n",
       "172           1290            car  berlin_routes  \n",
       "173           1240            car  berlin_routes  \n",
       "174           1258            car  berlin_routes  \n",
       "\n",
       "[175 rows x 14 columns]"
      ]
     },
     "execution_count": 12,
     "metadata": {},
     "output_type": "execute_result"
    }
   ],
   "source": [
    "df_exploded.toPandas()"
   ]
  },
  {
   "cell_type": "code",
   "execution_count": 14,
   "id": "842b0249-4c52-426e-87aa-566bc577f9f9",
   "metadata": {},
   "outputs": [],
   "source": [
    "#additional_data.to_csv('data/additional_data.csv', index=False)\n"
   ]
  },
  {
   "cell_type": "markdown",
   "id": "163a675b-4110-4d97-8964-bd2e5a8785fd",
   "metadata": {},
   "source": [
    "# Webscraping"
   ]
  },
  {
   "cell_type": "markdown",
   "id": "854cb125-0d19-47d7-b214-49f1f1d39184",
   "metadata": {},
   "source": [
    "Wir haben eine Web-Scraping-Aufgabe durchgeführt, um Verkehrsdaten von der TomTom Traffic Index Website zu sammeln. Zunächst haben wir den WebDriver von Selenium initialisiert und die TomTom Traffic Index Ranking-Seite geöffnet. Nach einer Wartezeit von 10 Sekunden, um sicherzustellen, dass die Seite vollständig geladen ist, haben wir den eigentlichen Extraktionsprozess gestartet.\n",
    "\n",
    "Wir haben kontinuierlich nach unten gescrollt, um sicherzustellen, dass alle Verkehrsdaten auf der Seite geladen werden. Während des Scrollens haben wir nach spezifischen Zeilencontainern mit der Klasse sc-e3cb6a64-6.kfkObI gesucht. Für jeden gefundenen Zeilencontainer haben wir die darin enthaltenen span-Elemente extrahiert und deren Textinhalt gesammelt.\n",
    "\n",
    "Diese gesammelten Textinhalte haben wir überprüft, um sicherzustellen, dass sie nicht bereits in der Liste der gesammelten Daten enthalten sind und dass sie vollständig sind. Die gesammelten Daten haben wir in einer Liste gespeichert. Sobald keine neuen Daten mehr gefunden wurden, haben wir den Scroll- und Extraktionsprozess beendet und den WebDriver geschlossen.\n",
    "\n",
    "Anschließend haben wir die gesammelten Daten überprüft, um sicherzustellen, dass jede Datenzeile die richtige Anzahl von Elementen enthält, entsprechend den festgelegten Spaltenüberschriften: „Id“, „Ranked by Filter“, „World Rank“, „City“, „Average Traveltime“, „Change From 2022“, „Congestion level“, „Time lost per year“ und „Average speed“. Diese validierten Daten haben wir schließlich in ein pandas DataFrame umgewandelt und in einer CSV-Datei gespeichert. Die CSV-Datei kann später für detaillierte Analysen verwendet werden."
   ]
  },
  {
   "cell_type": "code",
   "execution_count": null,
   "id": "f913fcf1-4d6c-4236-a932-0ab69bf52976",
   "metadata": {},
   "outputs": [],
   "source": [
    "'''from selenium import webdriver\n",
    "from selenium.webdriver.common.by import By\n",
    "from selenium.webdriver.common.action_chains import ActionChains\n",
    "from selenium.webdriver.common.keys import Keys\n",
    "import time\n",
    "import pandas as pd\n",
    "\n",
    "# Manuelle Festlegung der Header\n",
    "column_headers = [\"Id\", \"Ranked by Filter\", \"World Rank\", \"City\", \"Average Traveltime per 10 km\", \"Change From 2022\", \"Congestion level in %\", \"Time lost per year (in hours)\", \"Average speed (in km/h)\"]\n",
    "\n",
    "# Initialize the WebDriver\n",
    "driver = webdriver.Chrome()\n",
    "\n",
    "# Load the webpage\n",
    "driver.get(\"https://www.tomtom.com/traffic-index/ranking/\")\n",
    "\n",
    "# Wait for the page to load completely\n",
    "driver.implicitly_wait(10)\n",
    "\n",
    "# Initialize an action to scroll\n",
    "actions = ActionChains(driver)\n",
    "\n",
    "# Lists to save all data\n",
    "all_div_data = []\n",
    "\n",
    "# Infinite loop to continuously scroll until all contents are loaded\n",
    "while True:\n",
    "    # Scroll down\n",
    "    actions.send_keys(Keys.PAGE_DOWN).perform()\n",
    "    \n",
    "    # Wait for new content to load\n",
    "    time.sleep(1)  # Adjust the waiting time depending on the page load speed\n",
    "\n",
    "    # Find all row containers with the class 'sc-e3cb6a64-6.kfkObI'\n",
    "    row_containers = driver.find_elements(By.CLASS_NAME, 'sc-e3cb6a64-6.kfkObI')\n",
    "    \n",
    "    # Variable to check if new elements were found\n",
    "    new_div_data = []\n",
    "    \n",
    "    # Iterate through all found row containers\n",
    "    for row in row_containers:\n",
    "        # Find all span elements within the current row container\n",
    "        span_elements = row.find_elements(By.TAG_NAME, 'span')\n",
    "        \n",
    "        # Extract the text from the span elements, split by '\\n', and take the first part\n",
    "        span_texts = [span.text.split(\"\\n\")[0] for span in span_elements]\n",
    "        \n",
    "        # Add to the newly found data if it is not already in the overall list\n",
    "        if span_texts not in all_div_data and span_texts:\n",
    "            new_div_data.append(span_texts)\n",
    "    \n",
    "    # If no new elements were found, break the loop\n",
    "    if not new_div_data:\n",
    "        break\n",
    "    \n",
    "    # Add the new data to our overall list\n",
    "    all_div_data.extend(new_div_data)\n",
    "\n",
    "# Close the browser\n",
    "driver.quit()\n",
    "\n",
    "# Print the first few rows of data for debugging\n",
    "for i, row in enumerate(all_div_data):\n",
    "    print(f\"Row {i}:\", row)\n",
    "\n",
    "# Ensure all rows have the correct number of elements\n",
    "valid_data = [row for row in all_div_data if len(row) == len(column_headers)]\n",
    "\n",
    "# Print the number of valid rows for debugging\n",
    "print(f\"Number of valid rows: {len(valid_data)}\")\n",
    "\n",
    "# Create a DataFrame from the collected data\n",
    "try:\n",
    "    df = pd.DataFrame(valid_data, columns=column_headers)\n",
    "    # Save the DataFrame to a CSV file\n",
    "    #df.to_csv(\"formatted_scraped_data.csv\", index=False)\n",
    "    print(\"DataFrame saved successfully.\")\n",
    "except ValueError as e:\n",
    "    print(f\"Error creating DataFrame: {e}\")\n",
    "\n",
    "# Print out the DataFrame to verify the structure\n",
    "print(df.head())\n",
    "'''"
   ]
  },
  {
   "cell_type": "markdown",
   "id": "deea15b0-c89d-45c9-b492-8787ce12bed5",
   "metadata": {},
   "source": [
    "Mit Hilfe von Pandas lesen wir Daten aus unserer erstellten csv Datei aus und löschen unnötige Spalten raus. Außerdem bearbeiten wir unsere Werte, damit wir nur die Zahlen haben."
   ]
  },
  {
   "cell_type": "code",
   "execution_count": null,
   "id": "997fd69d-a66e-491b-a2a5-ba6d06e74cf3",
   "metadata": {},
   "outputs": [],
   "source": [
    "'''import pandas as pd\n",
    "\n",
    "df = pd.read_csv('data/formatted_scraped_data.csv')\n",
    "\n",
    "df = df.drop(columns=[\"Id\", \"Ranked by Filter\"])\n",
    "\n",
    "df['Time lost per year (in hours)'] = df['Time lost per year (in hours)'].str.replace(' hours', '').astype(int)\n",
    "df['Average speed (in km/h)'] = df['Average speed (in km/h)'].str.replace(' km/h', '').astype(int)\n",
    "\n",
    "df.head()'''"
   ]
  },
  {
   "cell_type": "markdown",
   "id": "55cbb49c-be6f-4aa4-9536-c114e3b9f43f",
   "metadata": {},
   "source": [
    "Wir checken, ob alle Spalten gleich viele Werte überall aufweisen"
   ]
  },
  {
   "cell_type": "code",
   "execution_count": null,
   "id": "257d460d-7b35-4994-9c75-0a297ed81ab1",
   "metadata": {},
   "outputs": [],
   "source": [
    "#df.count()"
   ]
  },
  {
   "cell_type": "markdown",
   "id": "35abfedb-a372-4fc8-9d0d-490af8d297ec",
   "metadata": {},
   "source": [
    "Falls es Duplikate gibt, löschen wir diese heraus."
   ]
  },
  {
   "cell_type": "markdown",
   "id": "972dc060-256c-41bf-bae7-50999c50f30f",
   "metadata": {},
   "source": [
    "Mit describe geben wir nun die wichtigsten Informationen der einzelnen Spalten aus:"
   ]
  },
  {
   "cell_type": "code",
   "execution_count": null,
   "id": "4724a43d-1d0c-4afb-badd-257ab96cf756",
   "metadata": {},
   "outputs": [],
   "source": [
    "#df.describe()"
   ]
  },
  {
   "cell_type": "markdown",
   "id": "f65894b3-8b61-462e-9a18-8d23f5aaed82",
   "metadata": {},
   "source": [
    "Wir nutzen matplotlib und stellen damit unsere Werte in Histogrammen dar, um uns die Verteilung besser ansehen zu können."
   ]
  },
  {
   "cell_type": "code",
   "execution_count": null,
   "id": "269348d2-895b-4ce9-a1f5-e8e54a7eaa10",
   "metadata": {},
   "outputs": [],
   "source": [
    "'''import matplotlib.pyplot as plt\n",
    "df.hist(figsize=(15, 15))\n",
    "plt.show()'''"
   ]
  },
  {
   "cell_type": "markdown",
   "id": "00215379-d252-4c65-a0a0-5f13411d96cc",
   "metadata": {},
   "source": [
    "Zunächst nutzen wir seaborn und stellen die Korrelation zwischen dem Congestion level und dem Time lost per year dar."
   ]
  },
  {
   "cell_type": "code",
   "execution_count": null,
   "id": "d31fc258-a130-4191-83ac-d3f3afcd60a5",
   "metadata": {},
   "outputs": [],
   "source": [
    "'''import seaborn as sns\n",
    "\n",
    "sns.jointplot(x=df['Congestion level in %'], y=df['Time lost per year (in hours)'])\n",
    "plt.show()'''"
   ]
  },
  {
   "cell_type": "markdown",
   "id": "180ef51c-47e2-4a5b-a9b8-843a3b0f9154",
   "metadata": {},
   "source": [
    "Die gecleante Daten speichern wir nun in ein neues csv File."
   ]
  },
  {
   "cell_type": "code",
   "execution_count": null,
   "id": "c30cb462-2f9f-43df-9b2c-2322934101a6",
   "metadata": {},
   "outputs": [],
   "source": [
    "#df.to_csv('cleaned_traffic_data.csv', index=False, header=True)"
   ]
  },
  {
   "cell_type": "code",
   "execution_count": null,
   "id": "3c16cbf2-9258-4a6e-99e4-b494e286d4f2",
   "metadata": {},
   "outputs": [],
   "source": [
    "Zuletzt stellen wir noch die Verteilungen mithilfe von Boxplots dar."
   ]
  },
  {
   "cell_type": "code",
   "execution_count": null,
   "id": "f1ad97fe-449d-4e38-bc4f-df147488b6cc",
   "metadata": {},
   "outputs": [],
   "source": [
    "'''# Create boxplots\n",
    "plt.figure(figsize=(18, 6))\n",
    "\n",
    "# Boxplot for Congestion level\n",
    "plt.subplot(1, 3, 1)\n",
    "plt.boxplot(df['Congestion level in %'])\n",
    "plt.title('Congestion level')\n",
    "plt.ylabel('Congestion level (%)')\n",
    "\n",
    "# Boxplot for Time lost per year\n",
    "plt.subplot(1, 3, 2)\n",
    "plt.boxplot(df['Time lost per year (in hours)'])\n",
    "plt.title('Time lost per year')\n",
    "plt.ylabel('Time lost per year (hours)')\n",
    "\n",
    "# Boxplot for Average speed\n",
    "plt.subplot(1, 3, 3)\n",
    "plt.boxplot(df['Average speed (in km/h)'])\n",
    "plt.title('Average speed')\n",
    "plt.ylabel('Average speed (km/h)')\n",
    "\n",
    "plt.tight_layout()\n",
    "plt.show()'''"
   ]
  },
  {
   "cell_type": "markdown",
   "id": "b67c471a-9990-49a8-aa3d-84ba6e71acf6",
   "metadata": {},
   "source": [
    "### Vergleich der Durchschnittsgeschwindigkeit aus Routendaten und Scraped-Daten"
   ]
  },
  {
   "cell_type": "markdown",
   "id": "e123ed42-0ed4-4767-a8c2-ea3a30df7398",
   "metadata": {},
   "source": [
    "Zuerst haben wir die CSV-Datei **cleaned_traffic_data.csv** geladen und die Spaltennamen angezeigt, um deren genaue Spalten anzusehen. Danach haben wir die ersten paar Zeilen der Daten angezeigt, um einen Überblick über die Struktur zu bekommen.\n",
    "\n",
    "Um die Daten weiter zu bereinigen, haben wir die Einheit 'km/h' entfernt und die Spalte 'Average speed' in numerische Werte umgewandelt. Anschließend haben wir die Daten gefiltert, um nur die relevanten Städte London, Berlin und New Delhi einzuschließen.\n",
    "\n",
    "Schließlich haben wir die durchschnittliche Geschwindigkeit für jede dieser Städte berechnet. Die Ergebnisse haben wir in einem neuen DataFrame **avg_speed_scraped** gespeichert und die durchschnittliche Geschwindigkeit pro Stadt angezeigt."
   ]
  },
  {
   "cell_type": "code",
   "execution_count": 13,
   "id": "e724e075-22fc-4b47-9835-e11e72802ea5",
   "metadata": {},
   "outputs": [
    {
     "name": "stdout",
     "output_type": "stream",
     "text": [
      "Index(['World Rank', 'City', 'Average Traveltime per 10 km',\n",
      "       'Change From 2022', 'Congestion level in %',\n",
      "       'Time lost per year (in hours)', 'Average speed (in km/h)'],\n",
      "      dtype='object')\n",
      "   World Rank     City Average Traveltime per 10 km Change From 2022  \\\n",
      "0           1   London                  37 min 20 s          + 1 min   \n",
      "1           2   Dublin                  29 min 30 s          + 1 min   \n",
      "2           3  Toronto                       29 min           + 50 s   \n",
      "3           4    Milan                  28 min 50 s           + 20 s   \n",
      "4           5     Lima                  28 min 30 s     + 1 min 20 s   \n",
      "\n",
      "   Congestion level in %  Time lost per year (in hours)  \\\n",
      "0                     45                            148   \n",
      "1                     66                            158   \n",
      "2                     42                             98   \n",
      "3                     45                            137   \n",
      "4                     61                            157   \n",
      "\n",
      "   Average speed (in km/h)  \n",
      "0                       14  \n",
      "1                       16  \n",
      "2                       18  \n",
      "3                       17  \n",
      "4                       17  \n"
     ]
    }
   ],
   "source": [
    "import pandas as pd\n",
    "\n",
    "# Load the uploaded CSV file\n",
    "file_path = 'cleaned_traffic_data.csv'\n",
    "scraped_data = pd.read_csv(file_path)\n",
    "\n",
    "# Display the column names to understand their exact names\n",
    "print(scraped_data.columns)\n",
    "\n",
    "# Display the first few rows of the scraped data to understand its structure\n",
    "print(scraped_data.head())\n"
   ]
  },
  {
   "cell_type": "code",
   "execution_count": null,
   "id": "e1b1a4c3-0f34-47ce-aa19-df1330d45874",
   "metadata": {},
   "outputs": [],
   "source": [
    "# Remove the 'km/h' units and convert 'Average speed' to numeric\n",
    "scraped_data['Average speed'] = scraped_data['Average speed (in km/h)']\n",
    "\n",
    "# Filter for the relevant cities\n",
    "relevant_cities = ['London', 'Berlin', 'New Delhi']\n",
    "scraped_data_filtered = scraped_data[scraped_data['City'].isin(relevant_cities)]\n",
    "\n",
    "# Calculate average speed for each city\n",
    "avg_speed_scraped = scraped_data_filtered.groupby('City')['Average speed'].mean().reset_index()\n",
    "\n",
    "print(\"Average Speed from Scraped Data (in km/h):\")\n",
    "print(avg_speed_scraped)\n"
   ]
  },
  {
   "cell_type": "markdown",
   "id": "a20a7e6f-3df9-4538-bfe8-fe2fd48a4415",
   "metadata": {},
   "source": [
    "Eine neue Spalte für die Stadt wird basierend auf dem Kafka-Thema hinzugefügt. Hierfür wird eine bedingte Logik verwendet, die die Themen 'berlin_routes', 'delhi_routes' und 'london_routes' den entsprechenden Städten Berlin, New Delhi und London zuordnet.\n",
    "\n",
    "Anschließend wird die Länge der Route von Metern in Kilometer und die Dauer der Route von Sekunden in Stunden umgerechnet. Die durchschnittliche Geschwindigkeit pro Stadt in km/h wird berechnet, indem die Länge in Kilometern durch die Dauer in Stunden geteilt wird.\n",
    "\n",
    "Die berechnete durchschnittliche Geschwindigkeit pro Stadt wird aggregiert und in einem neuen DataFrame **df_avg_speed** gespeichert. Schließlich wird dieser DataFrame in ein Pandas-DataFrame konvertiert und die durchschnittliche Geschwindigkeit pro Stadt angezeigt."
   ]
  },
  {
   "cell_type": "code",
   "execution_count": null,
   "id": "82b196d0-9b32-482a-a876-cb069f5fa84e",
   "metadata": {},
   "outputs": [],
   "source": [
    "# Füge eine Spalte für die Stadt hinzu basierend auf dem Kafka-Thema\n",
    "df_filtered = df_exploded.withColumn('city', \n",
    "    when(col('topic') == 'berlin_routes', 'Berlin')\n",
    "    .when(col('topic') == 'delhi_routes', 'New Delhi')\n",
    "    .when(col('topic') == 'london_routes', 'London')\n",
    ")\n",
    "\n",
    "# Convert length from meters to kilometers and duration from seconds to hours\n",
    "df_filtered = df_filtered.withColumn('length_km', col('length') / 1000)\n",
    "df_filtered = df_filtered.withColumn('duration_hours', col('duration') / 3600)\n",
    "\n",
    "# Calculate average speed per city in km/h\n",
    "df_avg_speed = df_filtered.withColumn('speed_kmh', col('length_km') / col('duration_hours'))\n",
    "df_avg_speed = df_avg_speed.groupBy(\"city\").agg(avg(\"speed_kmh\").alias(\"avg_speed_kmh\"))\n",
    "pdf_avg_speed = df_avg_speed.toPandas()\n",
    "\n",
    "print(\"Average Speed from Route Data (in km/h):\")\n",
    "print(pdf_avg_speed)\n"
   ]
  },
  {
   "cell_type": "markdown",
   "id": "6b07df7a-98bd-4ef1-a95d-c47a86398f80",
   "metadata": {},
   "source": [
    "Daten für die Visualisierung werden vorbereitet, indem die DataFrames **pdf_avg_speed** und **avg_speed_scraped** zusammengeführt werden. Dies erfolgt auf Basis der Spalte 'city' bzw. 'City', wobei die Suffixe '_route' und '_scraped' verwendet werden, um die unterschiedlichen Datenquellen zu kennzeichnen.\n",
    "\n",
    "Eine Visualisierung wird erstellt, um die durchschnittliche Geschwindigkeit der beiden Datensätze zu vergleichen. Die Visualisierung besteht aus einem Balkendiagramm, das die durchschnittliche Geschwindigkeit der Routen- und der gescrapten Daten für jede Stadt zeigt.\n",
    "\n",
    "Die Balkenpositionen werden festgelegt und zwei Balkendiagramme werden erstellt: eines für die Routen-Daten und eines für die gescrapten Daten. Die Balken werden nebeneinander angezeigt, um den Vergleich zu erleichtern. Achsenbeschriftungen, Titel und Legenden werden hinzugefügt, um die Diagramme zu beschreiben.\n",
    "\n",
    "Schließlich wird das Layout angepasst und das Diagramm angezeigt, um den Vergleich der durchschnittlichen Geschwindigkeit pro Stadt zu visualisieren."
   ]
  },
  {
   "cell_type": "code",
   "execution_count": null,
   "id": "5a081503-b9fb-4b83-a13d-57ac29e59930",
   "metadata": {},
   "outputs": [],
   "source": [
    "import matplotlib.pyplot as plt\n",
    "import seaborn as sns\n",
    "\n",
    "# Daten für die Visualisierung vorbereiten\n",
    "merged_data = pd.merge(pdf_avg_speed, avg_speed_scraped, left_on='city', right_on='City', suffixes=('_route', '_scraped'))\n",
    "\n",
    "plt.figure(figsize=(12, 8))\n",
    "\n",
    "# Average Speed Visualization\n",
    "plt.subplot(2, 1, 1)\n",
    "bar_width = 0.35\n",
    "\n",
    "# Balkenpositionen\n",
    "index = range(len(merged_data))\n",
    "\n",
    "# Balkendiagramme erstellen\n",
    "plt.bar(index, merged_data['avg_speed_kmh'], bar_width, label='Route Data', color='b')\n",
    "plt.bar([p + bar_width for p in index], merged_data['Average speed'], bar_width, label='Scraped Data', color='r')\n",
    "\n",
    "# Achsenbeschriftungen und Titel\n",
    "plt.xlabel('City')\n",
    "plt.ylabel('Average Speed (km/h)')\n",
    "plt.title('Comparison of Average Speed (in km/h)')\n",
    "plt.xticks([p + bar_width / 2 for p in index], merged_data['City'])\n",
    "plt.legend()\n",
    "\n",
    "# Layout anpassen\n",
    "plt.tight_layout()\n",
    "plt.show()\n"
   ]
  },
  {
   "cell_type": "markdown",
   "id": "730c03eb-efa0-4713-8936-9c429f1ae97e",
   "metadata": {},
   "source": [
    "# TrafficIndex"
   ]
  },
  {
   "cell_type": "markdown",
   "id": "09ac5199-e0b3-4694-824b-ec10780246ae",
   "metadata": {},
   "source": [
    "Zuerst müssen wir den Datensatz aus der CSV-Datei laden."
   ]
  },
  {
   "cell_type": "code",
   "execution_count": null,
   "id": "1a1dd068-93d3-495a-8253-1d6d265d39d1",
   "metadata": {},
   "outputs": [],
   "source": [
    "import pandas as pd\n",
    "\n",
    "# CSV-Datei mit der richtigen Kodierung einlesen\n",
    "file_path = 'data/TrafficIndex_19Jun2022-26Jun2022.csv'\n",
    "traffic_data = pd.read_csv(file_path, encoding='latin1')\n",
    "\n",
    "# Filtern Sie die relevanten Städte heraus\n",
    "relevant_cities = ['London', 'Berlin', 'New Delhi']\n",
    "filtered_traffic_data = traffic_data[traffic_data['City'].isin(relevant_cities)]\n",
    "\n",
    "traffic_data.head()\n"
   ]
  },
  {
   "cell_type": "markdown",
   "id": "e3b87fa8-2518-4f33-a699-1059788faaac",
   "metadata": {},
   "source": [
    "### Schritt 2: Überprüfen der Daten\r",
    "Wir untersuchen die Datenn, um ihre Struktur zu verstehen und etwaige Probleme zu identifizieren.\n"
   ]
  },
  {
   "cell_type": "code",
   "execution_count": null,
   "id": "e007811b-e37d-474f-99b9-4ecf5654a5d6",
   "metadata": {},
   "outputs": [],
   "source": [
    "# Display information about the dataset\n",
    "traffic_data.info()\n",
    "\n",
    "# Display basic statistics\n",
    "traffic_data.describe()\n"
   ]
  },
  {
   "cell_type": "markdown",
   "id": "25eb1e1a-f536-4c8a-90b6-cc228338bea4",
   "metadata": {},
   "source": [
    "### Schritt 3: Bereinigen der Daten\r\n",
    "In diesem Schritt bereinigen wir die Daten, indem wir alle bei der Inspektion festgestellten Probleme beheben.\n"
   ]
  },
  {
   "cell_type": "code",
   "execution_count": null,
   "id": "88371abc-0581-465d-9b0f-b0dd9397b413",
   "metadata": {},
   "outputs": [],
   "source": [
    "# Checking for missing values\n",
    "traffic_data.isnull().sum()\n",
    "\n",
    "# Rename columns for better readability\n",
    "traffic_data.columns = ['Rank', 'City', 'AverageTCI', 'MaxTCI']\n",
    "\n",
    "# Display unique values in 'City' column to check for anomalies\n",
    "traffic_data['City'].unique()\n",
    "\n",
    "# Correct any anomalies in the 'City' column\n",
    "traffic_data['City'] = traffic_data['City'].replace({'?ód?': 'Łódź'})\n",
    "\n",
    "# Convert columns to appropriate data types\n",
    "traffic_data['Rank'] = traffic_data['Rank'].astype(int)\n",
    "traffic_data['AverageTCI'] = traffic_data['AverageTCI'].astype(float)\n",
    "traffic_data['MaxTCI'] = traffic_data['MaxTCI'].astype(float)\n",
    "\n",
    "# Display the cleaned dataset\n",
    "traffic_data.head()\n"
   ]
  },
  {
   "cell_type": "markdown",
   "id": "1b8cb886-4e59-4de7-bef8-1f095f45f1fa",
   "metadata": {},
   "source": [
    "### Schritt 4: Speichern der bereinigten Daten\r\n",
    "Abschließend speichern wir die bereinigten Daten in einer neuen CSV-Datei.\r\n"
   ]
  },
  {
   "cell_type": "code",
   "execution_count": null,
   "id": "17e7dbcf-3c22-4c74-9302-007cf0c6e741",
   "metadata": {},
   "outputs": [],
   "source": [
    "# Save the cleaned data to a new CSV file\n",
    "cleaned_file_path = 'data/Cleaned_TrafficIndex_19Jun2022-26Jun2022.csv'\n",
    "#traffic_data.to_csv(cleaned_file_path, index=False)\n",
    "\n",
    "# Confirm the cleaned file is saved\n",
    "cleaned_file_path\n"
   ]
  },
  {
   "cell_type": "code",
   "execution_count": null,
   "id": "578bb5e8-5edc-4c8b-b25f-f81948ab0aff",
   "metadata": {},
   "outputs": [],
   "source": [
    "cleaned_kaggle = pd.read_csv('data/Cleaned_TrafficIndex_19Jun2022-26Jun2022.csv')\n",
    "cleaned_traffic_data = pd.read_csv('data/cleaned_traffic_data.csv')\n",
    "\n"
   ]
  },
  {
   "cell_type": "code",
   "execution_count": null,
   "id": "d93f1f16-dda0-45a0-9bd6-1551ad2d0b4e",
   "metadata": {},
   "outputs": [],
   "source": [
    "print(cleaned_traffic_data.columns)\n",
    "print(cleaned_kaggle.columns)\n",
    "print(additional_data.columns)\n",
    "\n"
   ]
  },
  {
   "cell_type": "markdown",
   "id": "748c1523-0871-4267-b95f-ba59b69d121d",
   "metadata": {},
   "source": [
    "### Korrelation zwischen Traffic Congestion und Travel Time"
   ]
  },
  {
   "cell_type": "markdown",
   "id": "f8cda881-56e0-4ec3-8e13-5fadbec04363",
   "metadata": {},
   "source": [
    "Die DataFrames **cleaned_traffic_data** und **cleaned_kaggle** werden basierend auf der Spalte 'City' zusammengeführt. Dadurch entsteht ein gemeinsamer Datensatz, der die relevanten Informationen aus beiden Quellen enthält.\n",
    "\n",
    "Ein Streudiagramm wird erstellt, um die Korrelation zwischen dem durchschnittlichen Traffic Congestion Index (TCI) und der durchschnittlichen Reisezeit pro 10 Kilometer darzustellen. Die x-Achse zeigt den Average TCI und die y-Achse die Average Traveltime per 10 km in Minuten.\n",
    "\n",
    "Die Punkte im Streudiagramm werden mit einer Transparenz von 0.5 dargestellt, um eine mögliche Überlappung der Datenpunkte besser zu visualisieren. Achsenbeschriftungen und Titel werden hinzugefügt, um die Darstellung zu beschreiben. Schließlich wird ein Gitter hinzugefügt, um die Lesbarkeit zu verbessern, und das Diagramm wird angezeigt, um die Korrelation zu visualisieren."
   ]
  },
  {
   "cell_type": "code",
   "execution_count": null,
   "id": "07d3e8b7-507c-4266-84dd-4690f7e74666",
   "metadata": {},
   "outputs": [],
   "source": [
    "import matplotlib.pyplot as plt\n",
    "\n",
    "# Merge DataFrames on 'City'\n",
    "merged_data = pd.merge(cleaned_traffic_data, cleaned_kaggle, on='City')\n",
    "\n",
    "# Scatter plot: AverageTCI vs Average Traveltime per 10 km\n",
    "plt.figure(figsize=(10, 6))\n",
    "plt.scatter(merged_data['AverageTCI'], merged_data['Average Traveltime per 10 km'], alpha=0.5)\n",
    "plt.xlabel('Average Traffic Congestion Index (TCI)')\n",
    "plt.ylabel('Average Traveltime per 10 km (minutes)')\n",
    "plt.title('Correlation between Traffic Congestion and Travel Time')\n",
    "plt.grid(True)\n",
    "plt.show()\n"
   ]
  },
  {
   "cell_type": "markdown",
   "id": "41162f7a-2aff-4240-809c-88fbdc9b798b",
   "metadata": {},
   "source": [
    "### Korrelation zwischen Verkehrsstauindex und anderen Metriken"
   ]
  },
  {
   "cell_type": "markdown",
   "id": "2762907d-80d9-4c64-9ecf-01a83e1570fc",
   "metadata": {},
   "source": [
    "Ein Pairplot wird erstellt, um die Korrelationen zwischen verschiedenen Verkehrskongestionsmetriken zu visualisieren. Dabei werden die Spalten 'AverageTCI', 'Average speed (in km/h)' und 'Time lost per year (in hours)' aus dem zusammengeführten Datensatz **merged_data** verwendet.\n",
    "\n",
    "Der Pairplot zeigt die Verteilungen und Beziehungen zwischen diesen Metriken. Titel und Achsenbeschriftungen werden automatisch generiert, um die dargestellten Metriken zu beschreiben. Schließlich wird der Pairplot angezeigt, um die Korrelationen zwischen den Verkehrskongestionsmetriken zu visualisieren."
   ]
  },
  {
   "cell_type": "code",
   "execution_count": null,
   "id": "e98bd098-d299-4d13-beee-8cb5ea4f211e",
   "metadata": {},
   "outputs": [],
   "source": [
    "# Pairplot to visualize correlations\n",
    "import seaborn as sns\n",
    "\n",
    "sns.pairplot(merged_data[['AverageTCI', 'Average speed (in km/h)', 'Time lost per year (in hours)']])\n",
    "plt.suptitle('Pairplot of Traffic Congestion Metrics', y=1.02)\n",
    "plt.show()\n"
   ]
  },
  {
   "cell_type": "markdown",
   "id": "9f2cd885-ae25-4dbb-9f99-bf359fbb2b39",
   "metadata": {},
   "source": [
    "Das zusätzliche DataFrame **additional_data** wird aus dem Spark DataFrame df_exploded konvertiert und als Pandas DataFrame gespeichert. Anschließend werden die relevanten Routen herausgefiltert, indem nur die Einträge berücksichtigt werden, deren 'topic' in den relevanten Themen 'london_routes', 'berlin_routes' und 'delhi_routes' enthalten sind. Das gefilterte DataFrame **filtered_additional_data** enthält somit nur die relevanten Routen für die drei Städte."
   ]
  },
  {
   "cell_type": "code",
   "execution_count": null,
   "id": "fab5226d-f049-4f59-a3c8-6b31303dce43",
   "metadata": {},
   "outputs": [],
   "source": [
    "additional_data = df_exploded.toPandas()\n",
    "# Speichern des Pandas DataFrame als CSV-Datei\n",
    "\n",
    "# Filtern  die relevanten Routen heraus\n",
    "relevant_topics = ['london_routes', 'berlin_routes', 'delhi_routes']\n",
    "filtered_additional_data = additional_data[additional_data['topic'].isin(relevant_topics)]\n",
    "\n",
    "\n"
   ]
  },
  {
   "cell_type": "markdown",
   "id": "1ad1b588-2cc8-4f47-874a-c97beaaa9970",
   "metadata": {},
   "source": [
    "Für jede Stadt wird ein Streupunkt im Diagramm mit der entsprechenden Farbe und dem entsprechenden Marker gezeichnet. Die X-Achse zeigt den 'Verkehrsbelastung (%)' und die Y-Achse die 'Durchschnittliche Fahrzeit pro 10 km (Minuten)'. Es wird ein Titel und Beschriftungen für die Achsen hinzugefügt, und eine Legende wird angezeigt, um die verschiedenen Städte zu identifizieren. Das Diagramm zeigt die Beziehung zwischen der Verkehrsbelastung und der durchschnittlichen Fahrzeit in den ausgewählten Städten."
   ]
  },
  {
   "cell_type": "code",
   "execution_count": null,
   "id": "24b150f3-2cda-4559-903d-e1e5039140df",
   "metadata": {},
   "outputs": [],
   "source": [
    "import matplotlib.pyplot as plt\n",
    "\n",
    "# Definiere die Städte, die du plotten möchtest\n",
    "cities_to_plot = ['London', 'Amsterdam', 'Toronto', 'Kairo', 'Berlin', 'New Delhi']\n",
    "\n",
    "# Definiere Farben und Marker für jede Stadt\n",
    "city_colors = {'London': 'blue', 'Amsterdam': 'green', 'Toronto': 'red', 'Kairo': 'purple', 'Berlin': 'orange', 'New Delhi': 'brown'}\n",
    "city_markers = {'London': 'o', 'Amsterdam': 's', 'Toronto': 'd', 'Kairo': '^', 'Berlin': 'v', 'New Delhi': 'p'}\n",
    "\n",
    "plt.figure(figsize=(10, 8))\n",
    "\n",
    "# Schleife über jede Stadt, um sie mit entsprechender Farbe und Marker zu plotten\n",
    "for city in cities_to_plot:\n",
    "    city_data = scraped_data_filtered[scraped_data_filtered['City'] == city]\n",
    "    # Hier den korrekten Spaltennamen 'Congestion level in %' verwenden\n",
    "    plt.scatter(x=city_data['Congestion level in %'], y=city_data['Average Traveltime per 10 km'], \n",
    "                color=city_colors[city], marker=city_markers[city], label=city, alpha=0.7)\n",
    "\n",
    "plt.title('Verkehrsbelastung vs. Durchschnittliche Fahrzeit')\n",
    "plt.xlabel('Verkehrsbelastung (%)')\n",
    "plt.ylabel('Durchschnittliche Fahrzeit pro 10 km (Minuten)')\n",
    "plt.legend(loc='best')\n",
    "plt.grid(True)\n",
    "\n",
    "# Y-Achse umkehren, falls gewünscht\n",
    "plt.gca().invert_yaxis()\n",
    "\n",
    "plt.show()\n"
   ]
  },
  {
   "cell_type": "markdown",
   "id": "775a65ea-4413-4723-85b0-a183e97e7b5b",
   "metadata": {},
   "source": [
    "Die durchschnittliche Dauer, Länge und Basisdauer für jede Route werden nach dem 'topic' berechnet. Dazu wird das gefilterte DataFrame **filtered_additional_data** verwendet, um die gewünschten Metriken zu gruppieren und zu berechnen."
   ]
  },
  {
   "cell_type": "code",
   "execution_count": null,
   "id": "56355b3d-9dc3-4301-b1c5-f0d3b363ae7b",
   "metadata": {},
   "outputs": [],
   "source": [
    "# Durchschnittliche Dauer, Länge und Basisdauer nach 'topic' berechnen\n",
    "average_route_duration = filtered_additional_data.groupby('topic')['duration'].mean().reset_index()\n",
    "\n",
    "print(\"Durchschnittliche Dauer für jede Route:\")\n",
    "print(average_route_duration)\n"
   ]
  },
  {
   "cell_type": "markdown",
   "id": "49b93f07-a6b2-4433-b444-3c1171690a4c",
   "metadata": {},
   "source": [
    "Zunächst wird ein Mapping erstellt, das die Routen zu den entsprechenden Städten zuordnet. Dieses Mapping wird verwendet, um eine neue Stadtspalte zu den durchschnittlichen Routendauern hinzuzufügen. Danach werden die durchschnittlichen Routendauern mit den bereits gefilterten Verkehrsdaten auf Basis der Stadtspalte kombiniert. Schließlich werden die kombinierten Daten angezeigt."
   ]
  },
  {
   "cell_type": "code",
   "execution_count": null,
   "id": "3d877c98-25f4-4437-a58a-3b121b85ce33",
   "metadata": {},
   "outputs": [],
   "source": [
    "# Mapping von Routen zu Städten\n",
    "route_to_city = {\n",
    "    'london_routes': 'London',\n",
    "    'berlin_routes': 'Berlin',\n",
    "    'delhi_routes': 'New Delhi'\n",
    "}\n",
    "\n",
    "# Stadtspalte zu den durchschnittlichen Routendauern hinzufügen\n",
    "average_route_duration['City'] = average_route_duration['topic'].map(route_to_city)\n",
    "\n",
    "# Daten kombinieren\n",
    "combined_data = pd.merge(filtered_traffic_data, average_route_duration, on='City', how='inner')\n",
    "\n",
    "# Kombinierte Daten anzeigen\n",
    "print(combined_data)\n"
   ]
  },
  {
   "cell_type": "markdown",
   "id": "1ba50e90-ca21-4d2f-8e3b-b152e1617299",
   "metadata": {},
   "source": [
    "Ein Streudiagramm wird erstellt, um die Beziehung zwischen dem Traffic Congestion Index (TCI) und der durchschnittlichen Dauer der Routen zu analysieren. Dabei werden die kombinierten Daten verwendet, die sowohl die Verkehrsdaten als auch die durchschnittlichen Routendauern enthalten.\n",
    "\n",
    "Zunächst wird die Größe des Diagramms festgelegt. Anschließend wird mit Seaborn ein Streudiagramm erstellt, bei dem die X-Achse den Traffic Congestion Index (AverageTCI) und die Y-Achse die durchschnittliche Dauer der Routen in Sekunden darstellt. Die Datenpunkte werden nach Städten farblich unterschieden.\n",
    "\n",
    "Ein Titel und Achsenbeschriftungen werden hinzugefügt, ebenso wie eine Legende, die die verschiedenen Städte erklärt. Ein Gitter wird aktiviert, um die Lesbarkeit zu verbessern, und das Layout wird angepasst, um eine optimale Darstellung zu gewährleisten. Schließlich wird das Diagramm angezeigt."
   ]
  },
  {
   "cell_type": "code",
   "execution_count": null,
   "id": "a73863bd-4ed4-4cb6-b14f-6b977326c342",
   "metadata": {},
   "outputs": [],
   "source": [
    "import matplotlib.pyplot as plt\n",
    "import seaborn as sns\n",
    "\n",
    "# Scatterplot für die Analyse der Beziehung zwischen TCI und durchschnittlicher Dauer\n",
    "plt.figure(figsize=(10, 6))\n",
    "sns.scatterplot(data=combined_data, x='AverageTCI', y='duration', hue='City')\n",
    "plt.title('Beziehung zwischen Traffic Congestion Index und durchschnittlicher Dauer der Routen')\n",
    "plt.xlabel('Traffic Congestion Index (AverageTCI)')\n",
    "plt.ylabel('Durchschnittliche Dauer der Routen (Sekunden)')\n",
    "plt.legend(title='City')\n",
    "plt.grid(True)\n",
    "plt.tight_layout()\n",
    "plt.show()\n"
   ]
  },
  {
   "cell_type": "markdown",
   "id": "39698eae-c330-4a0a-b3ff-3c488a9df2df",
   "metadata": {},
   "source": [
    "Ein Streudiagramm wird erstellt, um die Beziehung zwischen dem Traffic Confidence Index (TCI) und der durchschnittlichen Routendauer für verschiedene Städte zu visualisieren.\n",
    "\n",
    "Die Daten für die Visualisierung werden aus den kombinierten Daten ausgewählt. Die X-Achse zeigt den durchschnittlichen TCI, und die Y-Achse zeigt die durchschnittliche Routendauer in Minuten. Die Datenpunkte werden blau eingefärbt und ihre Größe wird durch den MaxTCI skaliert.\n",
    "\n",
    "Jeder Datenpunkt wird mit einem Textlabel versehen, das den Namen der Stadt anzeigt. Die Achsen werden entsprechend beschriftet und ein Titel wird hinzugefügt, um das Diagramm zu erklären."
   ]
  },
  {
   "cell_type": "code",
   "execution_count": null,
   "id": "e688b0ca-0627-4a4e-bb38-f3384f4a9ee1",
   "metadata": {},
   "outputs": [],
   "source": [
    "import matplotlib.pyplot as plt\n",
    "\n",
    "# Scatterplot erstellen\n",
    "plt.figure(figsize=(10, 6))\n",
    "\n",
    "# Daten für die Visualisierung auswählen\n",
    "x = combined_data['AverageTCI']\n",
    "y = combined_data['duration']\n",
    "labels = combined_data['City']\n",
    "\n",
    "# Scatterplot erstellen\n",
    "plt.scatter(x, y, s=combined_data['MaxTCI']*5, alpha=0.5, c='blue', edgecolors='w')\n",
    "\n",
    "# Labels für die Punkte hinzufügen\n",
    "for i, label in enumerate(labels):\n",
    "    plt.text(x[i], y[i], label, fontsize=8, ha='center', va='bottom')\n",
    "\n",
    "# Achsenbeschriftungen\n",
    "plt.xlabel('Durchschnittlicher Traffic Confidence Index (TCI)')\n",
    "plt.ylabel('Durchschnittliche Route Dauer (in Minuten)')\n",
    "\n",
    "# Titel hinzufügen\n",
    "plt.title('Beziehung zwischen TCI und Routen-Dauer für verschiedene Städte')\n",
    "\n",
    "# Grid anzeigen\n",
    "plt.grid(True)\n",
    "\n",
    "# Diagramm anzeigen\n",
    "plt.show()\n"
   ]
  },
  {
   "cell_type": "markdown",
   "id": "d53bf26f-2fa4-49d1-a25f-8e647d33ba58",
   "metadata": {},
   "source": [
    "### Durchschnittliche Länge der Routen pro Stadt"
   ]
  },
  {
   "cell_type": "code",
   "execution_count": null,
   "id": "0acd30ea-d1f4-413c-9796-e4401a04d97a",
   "metadata": {},
   "outputs": [],
   "source": [
    "df_avg_length = df_exploded.groupBy(\"topic\").agg(avg(\"length\").alias(\"avg_length\"))\n",
    "df_avg_length.show()\n",
    "df_avg_length.toPandas()"
   ]
  },
  {
   "cell_type": "markdown",
   "id": "e58ead80-bf45-4d1b-bd70-1a52280b58a3",
   "metadata": {},
   "source": [
    "### Maximale und minimale Dauer der Routen pro Stadt"
   ]
  },
  {
   "cell_type": "code",
   "execution_count": null,
   "id": "e6c9c318-ad9a-404e-b85b-08cdd17c269b",
   "metadata": {},
   "outputs": [],
   "source": [
    "df_max_min_duration = df_exploded.groupBy(\"topic\").agg(\n",
    "    max(\"duration\").alias(\"max_duration\"),\n",
    "    min(\"duration\").alias(\"min_duration\")\n",
    ")\n",
    "df_max_min_duration.show()\n",
    "df_max_min_duration.toPandas()\n"
   ]
  },
  {
   "cell_type": "markdown",
   "id": "68860eb9-ce1f-4894-ae39-a043efe05a35",
   "metadata": {},
   "source": [
    "### Durchschnittliche erwartete Dauer vs. Tatsächliche Dauer pro Stadt"
   ]
  },
  {
   "cell_type": "markdown",
   "id": "ab31a503-d189-4288-a494-0656b569ed70",
   "metadata": {},
   "source": [
    "\"BaseDuration\" ist die Zeit ohne Echtzeitverkehr auf der Route und „Duration“ umfasst aktuelle, verkehrsreduzierte Geschwindigkeiten."
   ]
  },
  {
   "cell_type": "code",
   "execution_count": null,
   "id": "0d0c275c-3c93-48d5-9f69-a78fa08be8f1",
   "metadata": {},
   "outputs": [],
   "source": [
    "df_avg_base_vs_actual_duration = df_exploded.groupBy(\"topic\").agg(\n",
    "    avg(\"base_duration\").alias(\"avg_base_duration\"),\n",
    "    avg(\"duration\").alias(\"avg_actual_duration\")\n",
    ")\n",
    "df_avg_base_vs_actual_duration.show()\n",
    "df_avg_base_vs_actual_duration.toPandas()\n"
   ]
  },
  {
   "cell_type": "markdown",
   "id": "66be4457-8fc2-43fa-8da9-3c66d8fd0d0e",
   "metadata": {},
   "source": [
    "### Vergleich der Durschnittsgeschwindigkeit & Höchstgeschwindigkeit"
   ]
  },
  {
   "cell_type": "markdown",
   "id": "2691ad52-2f75-42cf-9a81-d7741f6885f3",
   "metadata": {},
   "source": [
    "Die durchschnittliche und maximale Geschwindigkeit wird aus den Routeninformationen berechnet und nach Themen gruppiert. Zuerst wird eine neue Spalte \"speed\" erstellt, die die Geschwindigkeit in km/h berechnet, indem die Länge der Route durch die Dauer in Stunden geteilt wird. Dann werden die Daten nach dem 'topic' gruppiert und die durchschnittliche sowie maximale Geschwindigkeit für jede Gruppe berechnet.\n",
    "\n",
    "Die Ergebnisse werden in einem DataFrame df_speed gespeichert und angezeigt. Schließlich wird dieses DataFrame in ein Pandas-DataFrame konvertiert."
   ]
  },
  {
   "cell_type": "code",
   "execution_count": null,
   "id": "ec732931-4025-44b5-bf40-8ef55cc051fa",
   "metadata": {},
   "outputs": [],
   "source": [
    "df_speed = df_exploded.withColumn(\"speed\", col(\"length\") / (col(\"duration\") / 3600)) \\\n",
    "    .groupBy(\"topic\").agg(\n",
    "        avg(\"speed\").alias(\"avg_speed\"),\n",
    "        max(\"speed\").alias(\"max_speed\")\n",
    "    )\n",
    "df_speed.show()\n",
    "df_speed.toPandas()\n"
   ]
  },
  {
   "cell_type": "markdown",
   "id": "abde1886-c9eb-48b2-88b7-78805cfbeb67",
   "metadata": {},
   "source": [
    "Das Vorgehen umfasst die Berechnung und Analyse von Verkehrsdatendauer und -längen. Zunächst wird das Spark DataFrame in ein Pandas DataFrame konvertiert, um weitere Analysen durchzuführen.\n",
    "\n",
    "Der Median der Dauer pro Stadt wird berechnet, indem die Funktion **percentile_approx** verwendet wird. Das Ergebnis wird in ein Pandas DataFrame **pdf_median_duration** konvertiert.\n",
    "\n",
    "Die Standardabweichung der Dauer und Länge wird für jede Stadt berechnet. Die Ergebnisse werden ebenfalls in ein Pandas DataFrame **pdf_stddev_duration_length** konvertiert.\n",
    "\n",
    "Zusätzlich wird das Verhältnis von Dauer zu Länge berechnet. Für jede Stadt werden der durchschnittliche, maximale und minimale Wert dieses Verhältnisses bestimmt und in ein Pandas DataFrame **pdf_ratio** konvertiert.\n",
    "\n",
    "Schließlich werden die Ergebnisse der Berechnungen angezeigt."
   ]
  },
  {
   "cell_type": "code",
   "execution_count": null,
   "id": "1af64b1f-8d0d-4f2b-ba59-73650123b7ba",
   "metadata": {},
   "outputs": [],
   "source": [
    "import pandas as pd\n",
    "from pyspark.sql.functions import stddev, median\n",
    "\n",
    "# Convert Spark DataFrame to Pandas DataFrame for further analysis\n",
    "pdf_exploded = df_exploded.toPandas()\n",
    "\n",
    "# Median Duration per City\n",
    "median_duration = df_exploded.groupBy(\"topic\").agg(expr(\"percentile_approx(duration, 0.5)\").alias(\"median_duration\"))\n",
    "pdf_median_duration = median_duration.toPandas()\n",
    "\n",
    "# Standard Deviation of Duration and Length\n",
    "stddev_duration_length = df_exploded.groupBy(\"topic\").agg(\n",
    "    stddev(\"duration\").alias(\"stddev_duration\"),\n",
    "    stddev(\"length\").alias(\"stddev_length\")\n",
    ")\n",
    "pdf_stddev_duration_length = stddev_duration_length.toPandas()\n",
    "\n",
    "\n",
    "# Duration/Length Ratio\n",
    "df_ratio = df_exploded.withColumn(\"duration_length_ratio\", col(\"duration\") / col(\"length\"))\n",
    "pdf_ratio = df_ratio.groupBy(\"topic\").agg(\n",
    "    avg(\"duration_length_ratio\").alias(\"avg_duration_length_ratio\"),\n",
    "    max(\"duration_length_ratio\").alias(\"max_duration_length_ratio\"),\n",
    "    min(\"duration_length_ratio\").alias(\"min_duration_length_ratio\")\n",
    ").toPandas()\n",
    "\n",
    "\n",
    "\n",
    "# Visualize the results using Pandas DataFrames\n",
    "print(\"Median Duration per City\")\n",
    "print(pdf_median_duration)\n",
    "\n",
    "print(\"\\nStandard Deviation of Duration and Length\")\n",
    "print(pdf_stddev_duration_length)\n",
    "\n",
    "print(\"\\nDuration/Length Ratio\")\n",
    "print(pdf_ratio)\n",
    "\n",
    "\n"
   ]
  },
  {
   "cell_type": "markdown",
   "id": "6b2cdf74-ea4f-4cc4-b0f2-eacd9b6e9d26",
   "metadata": {},
   "source": [
    "Es werden drei Diagramme erstellt, um die berechneten Metriken für verschiedene Städte zu visualisieren.\n",
    "\n",
    "Zuerst wird ein Balkendiagramm erstellt, das die Median-Dauer pro Stadt zeigt. Die X-Achse stellt die Städte dar, während die Y-Achse die Median-Dauer in Sekunden anzeigt.\n",
    "\n",
    "Dann wird ein Balkendiagramm erstellt, das die Standardabweichung der Dauer und Länge für jede Stadt zeigt. Die X-Achse stellt die Städte dar, und die Y-Achse zeigt die Standardabweichung für Dauer und Länge, wobei die Längenabweichung auf einer sekundären Y-Achse dargestellt wird.\n",
    "\n",
    "Schließlich wird ein weiteres Balkendiagramm erstellt, das das durchschnittliche Verhältnis von Dauer zu Länge pro Stadt zeigt. Die X-Achse stellt die Städte dar, und die Y-Achse zeigt das durchschnittliche Verhältnis von Dauer zu Länge.\n",
    "\n",
    "Diese Visualisierungen bieten eine anschauliche Darstellung der berechneten Metriken und ermöglichen den Vergleich zwischen den verschiedenen Städten."
   ]
  },
  {
   "cell_type": "code",
   "execution_count": null,
   "id": "09cbfe99-6391-4bf1-a793-4b9c2fc9c8b8",
   "metadata": {},
   "outputs": [],
   "source": [
    "import matplotlib.pyplot as plt\n",
    "import seaborn as sns\n",
    "# Visualisierung: Median Duration per City\n",
    "plt.figure(figsize=(10, 6))\n",
    "sns.barplot(x='topic', y='median_duration', data=pdf_median_duration)\n",
    "plt.title('Median Duration per City')\n",
    "plt.xlabel('City')\n",
    "plt.ylabel('Median Duration (seconds)')\n",
    "plt.show()\n",
    "\n",
    "# Visualisierung: Standard Deviation of Duration and Length\n",
    "plt.figure(figsize=(10, 6))\n",
    "pdf_stddev_duration_length.plot(kind='bar', x='topic', secondary_y=['stddev_length'], rot=0)\n",
    "plt.title('Standard Deviation of Duration and Length per City')\n",
    "plt.xlabel('City')\n",
    "plt.show()\n",
    "\n",
    "\n",
    "# Visualisierung: Duration/Length Ratio\n",
    "plt.figure(figsize=(10, 6))\n",
    "sns.barplot(x='topic', y='avg_duration_length_ratio', data=pdf_ratio)\n",
    "plt.title('Average Duration/Length Ratio per City')\n",
    "plt.xlabel('City')\n",
    "plt.ylabel('Average Duration/Length Ratio')\n",
    "plt.show()\n"
   ]
  },
  {
   "cell_type": "markdown",
   "id": "26db15d1-81dc-4ddb-834b-3d639cdb5f19",
   "metadata": {},
   "source": [
    "Zuerst werden die Pandas DataFrames **pdf_median_duration**, **pdf_stddev_duration_length**, **pdf_transport_mode_proportions** und **pdf_ratio** in Spark DataFrames konvertiert. Anschließend wird das Pandas DataFrame **pdf_median_duration** in einer HDF5-Datei gespeichert."
   ]
  },
  {
   "cell_type": "code",
   "execution_count": null,
   "id": "be1813f8-e955-4e9b-8208-a7841d929c95",
   "metadata": {},
   "outputs": [],
   "source": [
    "df_median_duration = spark.createDataFrame(pdf_median_duration)\n",
    "df_stddev_duration_length = spark.createDataFrame(pdf_stddev_duration_length)\n",
    "df_transport_mode_proportions = spark.createDataFrame(pdf_transport_mode_proportions)\n",
    "df_ratio = spark.createDataFrame(pdf_ratio)\n",
    "\n",
    "# Save to HDF5 using Pandas\n",
    "pdf_median_duration.to_hdf(\"median_duration.h5\", key='median_duration', mode='w')\n"
   ]
  },
  {
   "cell_type": "markdown",
   "id": "9c31c763-3277-4c3d-8beb-d0e9ce1fc9ca",
   "metadata": {},
   "source": [
    "Zuerst wird das Pandas DataFrame **pdf_median_duration** in einer HDF5-Datei unter dem Verzeichnis **flat_files** gespeichert. Anschließend wird das Spark DataFrame **df_median_duration** im Parquet-Format im gleichen Verzeichnis gespeichert. Schließlich werden die Inhalte des Spark DataFrame **df_median_duration** angezeigt."
   ]
  },
  {
   "cell_type": "code",
   "execution_count": null,
   "id": "803d8539-2b6e-4b6f-b507-a58e5ecae360",
   "metadata": {},
   "outputs": [],
   "source": [
    "pdf_median_duration.to_hdf(\"flat_files/median_duration.h5\", key='median_duration', mode='w')\n"
   ]
  },
  {
   "cell_type": "code",
   "execution_count": null,
   "id": "332fca1c-29c4-4a04-ae8a-5b3f81968bca",
   "metadata": {},
   "outputs": [],
   "source": [
    "df_median_duration.write.parquet(\"flat_files/median_duration.parquet\")\n"
   ]
  },
  {
   "cell_type": "code",
   "execution_count": null,
   "id": "119670ab-6951-4979-98ef-e70459c8db90",
   "metadata": {},
   "outputs": [],
   "source": [
    "df_median_duration.show()\n"
   ]
  }
 ],
 "metadata": {
  "kernelspec": {
   "display_name": "Python 3 (ipykernel)",
   "language": "python",
   "name": "python3"
  },
  "language_info": {
   "codemirror_mode": {
    "name": "ipython",
    "version": 3
   },
   "file_extension": ".py",
   "mimetype": "text/x-python",
   "name": "python",
   "nbconvert_exporter": "python",
   "pygments_lexer": "ipython3",
   "version": "3.11.7"
  }
 },
 "nbformat": 4,
 "nbformat_minor": 5
}
