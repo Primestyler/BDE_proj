{
 "cells": [
  {
   "cell_type": "markdown",
   "id": "a7851242-78c9-417e-91a5-37093f83d5df",
   "metadata": {},
   "source": [
    "## Kafka Producer"
   ]
  },
  {
   "cell_type": "code",
   "execution_count": 3,
   "id": "733355fb-2d8a-427a-84cf-fbd98f040f77",
   "metadata": {
    "tags": []
   },
   "outputs": [
    {
     "name": "stdout",
     "output_type": "stream",
     "text": [
      "Requirement already satisfied: kafka-python in c:\\users\\konra\\anaconda3\\lib\\site-packages (2.0.2)\n"
     ]
    }
   ],
   "source": [
    "!pip install kafka-python"
   ]
  },
  {
   "cell_type": "code",
   "execution_count": 8,
   "id": "f6a13bf9-8824-4294-a4c1-ae987ce74f33",
   "metadata": {
    "is_executing": true,
    "tags": []
   },
   "outputs": [],
   "source": [
    "# load important libraries\n",
    "from time import sleep\n",
    "from json import dumps\n",
    "from kafka import KafkaProducer"
   ]
  },
  {
   "cell_type": "code",
   "execution_count": 10,
   "id": "4dd2c77a-5971-467c-95a4-41dff2796949",
   "metadata": {
    "tags": []
   },
   "outputs": [],
   "source": [
    "# create producer\n",
    "producer = KafkaProducer(bootstrap_servers=['172.29.16.101:9092'],\n",
    "                         value_serializer=lambda x: dumps(x).encode('utf-8'))"
   ]
  },
  {
   "cell_type": "markdown",
   "id": "f0d8c031-a427-493c-b6cc-436709f409ad",
   "metadata": {
    "tags": []
   },
   "source": [
    "### define topic"
   ]
  },
  {
   "cell_type": "code",
   "execution_count": 21,
   "id": "e50f36e4-f642-4f37-a061-2b5bade99c6f",
   "metadata": {
    "tags": []
   },
   "outputs": [],
   "source": [
    "topic = 'traffic_data_group7'"
   ]
  },
  {
   "cell_type": "markdown",
   "id": "ee371e69-f591-4b56-b8aa-c8f5ea9858c6",
   "metadata": {},
   "source": [
    "### send message"
   ]
  },
  {
   "cell_type": "code",
   "execution_count": 27,
   "id": "02e2c5ec-3547-4ec1-b42c-e5a330b7a171",
   "metadata": {
    "tags": []
   },
   "outputs": [
    {
     "data": {
      "text/plain": [
       "<kafka.producer.future.FutureRecordMetadata at 0x18611fe7ad0>"
      ]
     },
     "execution_count": 27,
     "metadata": {},
     "output_type": "execute_result"
    }
   ],
   "source": [
    "# now write a message to an existing topic\n",
    "# (with a delay of 5 seconds)\n",
    "data = {'test' : \"traffic data test\"}\n",
    "producer.send(topic, value=data)  "
   ]
  },
  {
   "cell_type": "markdown",
   "id": "25d7faaf-9967-4a66-a781-3a404e295d1b",
   "metadata": {},
   "source": [
    "## Current Topics"
   ]
  },
  {
   "cell_type": "markdown",
   "id": "25c6314c-684a-476c-a104-f0d258c8eb13",
   "metadata": {},
   "source": [
    "Kafka topics act as channels for messages in an event streaming platform. Producers send data streams to specific topics, and consumers subscribe to those topics to receive the data. Imagine them as folders for categorized messages in a constantly flowing river of information. ou can write Python code using the `confluent_kafka.admin` library to programmatically list topics. This approach is useful if you want to integrate topic listing within your application."
   ]
  },
  {
   "cell_type": "code",
   "execution_count": 16,
   "id": "c957e7a1-1279-4bcf-82c6-44ed1f2f905c",
   "metadata": {
    "tags": []
   },
   "outputs": [],
   "source": [
    "from confluent_kafka.admin import AdminClient"
   ]
  },
  {
   "cell_type": "code",
   "execution_count": 18,
   "id": "ab137c0a-5eda-4d3a-b75f-64e77a56063a",
   "metadata": {
    "tags": []
   },
   "outputs": [],
   "source": [
    "kadmin = AdminClient(conf)"
   ]
  },
  {
   "cell_type": "code",
   "execution_count": 20,
   "id": "6c01a9f7-9a38-41c6-a41a-12f26fc04415",
   "metadata": {
    "tags": []
   },
   "outputs": [
    {
     "data": {
      "text/plain": [
       "{'wikimedia-changes': TopicMetadata(wikimedia-changes, 1 partitions),\n",
       " 'traffic_data_group7': TopicMetadata(traffic_data_group7, 1 partitions),\n",
       " 'roulette': TopicMetadata(roulette, 1 partitions),\n",
       " 'hello-world': TopicMetadata(hello-world, 1 partitions),\n",
       " 'hello': TopicMetadata(hello, 1 partitions),\n",
       " '__consumer_offsets': TopicMetadata(__consumer_offsets, 50 partitions)}"
      ]
     },
     "execution_count": 20,
     "metadata": {},
     "output_type": "execute_result"
    }
   ],
   "source": [
    "kadmin.list_topics().topics"
   ]
  },
  {
   "cell_type": "code",
   "execution_count": 22,
   "id": "9bf8c8be-220b-42a8-a90e-20a9598f4e82",
   "metadata": {
    "tags": []
   },
   "outputs": [
    {
     "data": {
      "text/plain": [
       "<Future at 0x269bc6c9f50 state=running>"
      ]
     },
     "execution_count": 22,
     "metadata": {},
     "output_type": "execute_result"
    }
   ],
   "source": [
    "kadmin.list_consumer_groups()"
   ]
  },
  {
   "cell_type": "markdown",
   "id": "b7cf9847-8306-4278-ad3f-a1b3a2cd8c4d",
   "metadata": {
    "tags": []
   },
   "source": [
    "## Kafka Consumer"
   ]
  },
  {
   "cell_type": "markdown",
   "id": "5a98de96-df9b-4fd9-aa20-2eeccefacd1d",
   "metadata": {},
   "source": [
    "A Kafka consumer is a program that listens for and processes messages from specific Kafka topics. Think of it as an ear in a bustling marketplace, tuned in to receive messages of interest published by producers."
   ]
  },
  {
   "cell_type": "code",
   "execution_count": 29,
   "id": "fb23dafd-c88f-49ad-84a2-490a89947bb9",
   "metadata": {
    "is_executing": true,
    "tags": []
   },
   "outputs": [],
   "source": [
    "from kafka import KafkaConsumer\n",
    "import json\n",
    "\n",
    "consumer = KafkaConsumer(\n",
    " bootstrap_servers='172.29.16.101:9092',\n",
    " value_deserializer = lambda v: json.loads(v.decode('ascii')),\n",
    " auto_offset_reset='earliest'\n",
    ")"
   ]
  },
  {
   "cell_type": "code",
   "execution_count": null,
   "id": "0dab0dd8-c440-4756-9fd2-4ae2923623d5",
   "metadata": {
    "tags": []
   },
   "outputs": [
    {
     "name": "stdout",
     "output_type": "stream",
     "text": [
      "0:7: v=traffic data test\n"
     ]
    }
   ],
   "source": [
    "consumer.subscribe(topics=topic)\n",
    "for m in consumer:\n",
    "  print (\"%d:%d: v=%s\" % (m.partition,\n",
    "                          m.offset,\n",
    "                          m.value['test']))"
   ]
  },
  {
   "cell_type": "code",
   "execution_count": null,
   "id": "201b95de-c6d3-4f97-bf31-0cf95b4591fc",
   "metadata": {},
   "outputs": [],
   "source": []
  }
 ],
 "metadata": {
  "kernelspec": {
   "display_name": "Python 3 (ipykernel)",
   "language": "python",
   "name": "python3"
  },
  "language_info": {
   "codemirror_mode": {
    "name": "ipython",
    "version": 3
   },
   "file_extension": ".py",
   "mimetype": "text/x-python",
   "name": "python",
   "nbconvert_exporter": "python",
   "pygments_lexer": "ipython3",
   "version": "3.11.5"
  }
 },
 "nbformat": 4,
 "nbformat_minor": 5
}
